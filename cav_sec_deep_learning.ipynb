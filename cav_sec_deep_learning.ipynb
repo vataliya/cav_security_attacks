{
  "nbformat": 4,
  "nbformat_minor": 0,
  "metadata": {
    "accelerator": "GPU",
    "colab": {
      "name": "cav_sec_deep_learning.ipynb",
      "provenance": [],
      "collapsed_sections": [],
      "include_colab_link": true
    },
    "kernelspec": {
      "display_name": "Python 3",
      "language": "python",
      "name": "python3"
    },
    "language_info": {
      "codemirror_mode": {
        "name": "ipython",
        "version": 3
      },
      "file_extension": ".py",
      "mimetype": "text/x-python",
      "name": "python",
      "nbconvert_exporter": "python",
      "pygments_lexer": "ipython3",
      "version": "3.6.12"
    }
  },
  "cells": [
    {
      "cell_type": "markdown",
      "metadata": {
        "id": "view-in-github",
        "colab_type": "text"
      },
      "source": [
        "<a href=\"https://colab.research.google.com/github/vataliya/cav_security_attacls/blob/main/cav_sec_deep_learning.ipynb\" target=\"_parent\"><img src=\"https://colab.research.google.com/assets/colab-badge.svg\" alt=\"Open In Colab\"/></a>"
      ]
    },
    {
      "cell_type": "code",
      "metadata": {
        "colab": {
          "base_uri": "https://localhost:8080/"
        },
        "id": "OXuL8o6_6p_L",
        "outputId": "fd415901-dad3-4a01-961e-f31f83e5c50d"
      },
      "source": [
        "import pandas as pd\r\n",
        "from google.colab import drive\r\n",
        "drive.mount('/content/drive')"
      ],
      "execution_count": 1,
      "outputs": [
        {
          "output_type": "stream",
          "text": [
            "Drive already mounted at /content/drive; to attempt to forcibly remount, call drive.mount(\"/content/drive\", force_remount=True).\n"
          ],
          "name": "stdout"
        }
      ]
    },
    {
      "cell_type": "code",
      "metadata": {
        "colab": {
          "base_uri": "https://localhost:8080/"
        },
        "id": "WKCreinp6vcf",
        "outputId": "2e72d6a1-7e25-4384-f1b9-dcd0f22ce9c1"
      },
      "source": [
        "cd drive/My\\ Drive/Colab\\ Notebooks/kdd99/NSL-KDD"
      ],
      "execution_count": 2,
      "outputs": [
        {
          "output_type": "stream",
          "text": [
            "/content/drive/My Drive/Colab Notebooks/kdd99/NSL-KDD\n"
          ],
          "name": "stdout"
        }
      ]
    },
    {
      "cell_type": "code",
      "metadata": {
        "id": "GECoFggh6nBf"
      },
      "source": [
        "import pandas as pd\n",
        "import numpy as np\n",
        "import warnings\n",
        "warnings.filterwarnings('ignore')"
      ],
      "execution_count": 3,
      "outputs": []
    },
    {
      "cell_type": "markdown",
      "metadata": {
        "id": "AJxS3VbLLFrY"
      },
      "source": [
        "**Data Import and Preprocessing**"
      ]
    },
    {
      "cell_type": "code",
      "metadata": {
        "id": "Mhdl5aQr6nBm"
      },
      "source": [
        "columns = ['duration',\n",
        "    'protocol_type',\n",
        "    'service',\n",
        "    'flag',\n",
        "    'src_bytes',\n",
        "    'dst_bytes',\n",
        "    'land',\n",
        "    'wrong_fragment',\n",
        "    'urgent',\n",
        "    'hot',\n",
        "    'num_failed_logins',\n",
        "    'logged_in',\n",
        "    'num_compromised',\n",
        "    'root_shell',\n",
        "    'su_attempted',\n",
        "    'num_root',\n",
        "    'num_file_creations',\n",
        "    'num_shells',\n",
        "    'num_access_files',\n",
        "    'num_outbound_cmds',\n",
        "    'is_host_login',\n",
        "    'is_guest_login',\n",
        "    'count',\n",
        "    'srv_count',\n",
        "    'serror_rate',\n",
        "    'srv_serror_rate',\n",
        "    'rerror_rate',\n",
        "    'srv_rerror_rate',\n",
        "    'same_srv_rate',\n",
        "    'diff_srv_rate',\n",
        "    'srv_diff_host_rate',\n",
        "    'dst_host_count',\n",
        "    'dst_host_srv_count',\n",
        "    'dst_host_same_srv_rate',\n",
        "    'dst_host_diff_srv_rate',\n",
        "    'dst_host_same_src_port_rate',\n",
        "    'dst_host_srv_diff_host_rate',\n",
        "    'dst_host_serror_rate',\n",
        "    'dst_host_srv_serror_rate',\n",
        "    'dst_host_rerror_rate',\n",
        "    'dst_host_srv_rerror_rate',\n",
        "    'labels'\n",
        "]\n",
        "\n",
        "cav_attacks_list = [\n",
        "    'ipsweep',\n",
        "    'imap',\n",
        "    'mailbomb', \n",
        "    'neptune', \n",
        "    'pod', \n",
        "    'smurf', \n",
        "    'teardrop', \n",
        "    'udpstorm',\n",
        "    'buffer_overflow', \n",
        "    'httptunnel',\n",
        "    'ftp_write', \n",
        "    'guess_passwd', \n",
        "    'worm', \n",
        "    'xsnoop',\n",
        "    'normal']"
      ],
      "execution_count": 4,
      "outputs": []
    },
    {
      "cell_type": "code",
      "metadata": {
        "id": "aSKr-CNA6nBn"
      },
      "source": [
        "nsl_kdd_20p_train = pd.read_csv('KDDTrain+.txt', names = columns, index_col=False)\n",
        "cav_train = nsl_kdd_20p_train[nsl_kdd_20p_train['labels'].isin(cav_attacks_list)]"
      ],
      "execution_count": 5,
      "outputs": []
    },
    {
      "cell_type": "code",
      "metadata": {
        "id": "qy07xerX6nBn"
      },
      "source": [
        "nsl_kdd_20p_test = pd.read_csv('KDDTest+.txt', names = columns, index_col=False)\n",
        "cav_test = nsl_kdd_20p_test[nsl_kdd_20p_test['labels'].isin(cav_attacks_list)]"
      ],
      "execution_count": 6,
      "outputs": []
    },
    {
      "cell_type": "code",
      "metadata": {
        "id": "pr-amHlM6nBo"
      },
      "source": [
        "attacks = np.concatenate((nsl_kdd_20p_train['labels'].unique(),nsl_kdd_20p_test['labels'].unique()))\n",
        "attacks = np.unique(attacks)"
      ],
      "execution_count": 7,
      "outputs": []
    },
    {
      "cell_type": "code",
      "metadata": {
        "id": "LhURnvNk6nBo"
      },
      "source": [
        "nsl_kdd_20p_train_list = nsl_kdd_20p_train['labels'].value_counts()\n",
        "cav_train_list = cav_train['labels'].value_counts()\n",
        "nsl_kdd_20p_test_list = nsl_kdd_20p_test['labels'].value_counts()\n",
        "cav_test_list = cav_test['labels'].value_counts()"
      ],
      "execution_count": 8,
      "outputs": []
    },
    {
      "cell_type": "code",
      "metadata": {
        "colab": {
          "base_uri": "https://localhost:8080/",
          "height": 1000
        },
        "id": "H1nYE7nk6nBp",
        "outputId": "f7f3a406-660f-442d-f471-33c9c1a31456"
      },
      "source": [
        "dataset_values = pd.DataFrame(index = attacks, columns = ['NSL_KDD_Train', 'NSL_KDD_Test', 'CAV_Train', 'CAV_Test'])\n",
        "dataset_values['NSL_KDD_Train'] = nsl_kdd_20p_train_list\n",
        "dataset_values['NSL_KDD_Test'] = nsl_kdd_20p_test_list\n",
        "dataset_values['CAV_Train'] = cav_train_list\n",
        "dataset_values['CAV_Test'] = cav_test_list\n",
        "dataset_values.sort_values(by=['NSL_KDD_Train'], ascending = False)"
      ],
      "execution_count": 9,
      "outputs": [
        {
          "output_type": "execute_result",
          "data": {
            "text/html": [
              "<div>\n",
              "<style scoped>\n",
              "    .dataframe tbody tr th:only-of-type {\n",
              "        vertical-align: middle;\n",
              "    }\n",
              "\n",
              "    .dataframe tbody tr th {\n",
              "        vertical-align: top;\n",
              "    }\n",
              "\n",
              "    .dataframe thead th {\n",
              "        text-align: right;\n",
              "    }\n",
              "</style>\n",
              "<table border=\"1\" class=\"dataframe\">\n",
              "  <thead>\n",
              "    <tr style=\"text-align: right;\">\n",
              "      <th></th>\n",
              "      <th>NSL_KDD_Train</th>\n",
              "      <th>NSL_KDD_Test</th>\n",
              "      <th>CAV_Train</th>\n",
              "      <th>CAV_Test</th>\n",
              "    </tr>\n",
              "  </thead>\n",
              "  <tbody>\n",
              "    <tr>\n",
              "      <th>normal</th>\n",
              "      <td>67343.0</td>\n",
              "      <td>9711.0</td>\n",
              "      <td>67343.0</td>\n",
              "      <td>9711.0</td>\n",
              "    </tr>\n",
              "    <tr>\n",
              "      <th>neptune</th>\n",
              "      <td>41214.0</td>\n",
              "      <td>4657.0</td>\n",
              "      <td>41214.0</td>\n",
              "      <td>4657.0</td>\n",
              "    </tr>\n",
              "    <tr>\n",
              "      <th>satan</th>\n",
              "      <td>3633.0</td>\n",
              "      <td>735.0</td>\n",
              "      <td>NaN</td>\n",
              "      <td>NaN</td>\n",
              "    </tr>\n",
              "    <tr>\n",
              "      <th>ipsweep</th>\n",
              "      <td>3599.0</td>\n",
              "      <td>141.0</td>\n",
              "      <td>3599.0</td>\n",
              "      <td>141.0</td>\n",
              "    </tr>\n",
              "    <tr>\n",
              "      <th>portsweep</th>\n",
              "      <td>2931.0</td>\n",
              "      <td>157.0</td>\n",
              "      <td>NaN</td>\n",
              "      <td>NaN</td>\n",
              "    </tr>\n",
              "    <tr>\n",
              "      <th>smurf</th>\n",
              "      <td>2646.0</td>\n",
              "      <td>665.0</td>\n",
              "      <td>2646.0</td>\n",
              "      <td>665.0</td>\n",
              "    </tr>\n",
              "    <tr>\n",
              "      <th>nmap</th>\n",
              "      <td>1493.0</td>\n",
              "      <td>73.0</td>\n",
              "      <td>NaN</td>\n",
              "      <td>NaN</td>\n",
              "    </tr>\n",
              "    <tr>\n",
              "      <th>back</th>\n",
              "      <td>956.0</td>\n",
              "      <td>359.0</td>\n",
              "      <td>NaN</td>\n",
              "      <td>NaN</td>\n",
              "    </tr>\n",
              "    <tr>\n",
              "      <th>teardrop</th>\n",
              "      <td>892.0</td>\n",
              "      <td>12.0</td>\n",
              "      <td>892.0</td>\n",
              "      <td>12.0</td>\n",
              "    </tr>\n",
              "    <tr>\n",
              "      <th>warezclient</th>\n",
              "      <td>890.0</td>\n",
              "      <td>NaN</td>\n",
              "      <td>NaN</td>\n",
              "      <td>NaN</td>\n",
              "    </tr>\n",
              "    <tr>\n",
              "      <th>pod</th>\n",
              "      <td>201.0</td>\n",
              "      <td>41.0</td>\n",
              "      <td>201.0</td>\n",
              "      <td>41.0</td>\n",
              "    </tr>\n",
              "    <tr>\n",
              "      <th>guess_passwd</th>\n",
              "      <td>53.0</td>\n",
              "      <td>1231.0</td>\n",
              "      <td>53.0</td>\n",
              "      <td>1231.0</td>\n",
              "    </tr>\n",
              "    <tr>\n",
              "      <th>buffer_overflow</th>\n",
              "      <td>30.0</td>\n",
              "      <td>20.0</td>\n",
              "      <td>30.0</td>\n",
              "      <td>20.0</td>\n",
              "    </tr>\n",
              "    <tr>\n",
              "      <th>warezmaster</th>\n",
              "      <td>20.0</td>\n",
              "      <td>944.0</td>\n",
              "      <td>NaN</td>\n",
              "      <td>NaN</td>\n",
              "    </tr>\n",
              "    <tr>\n",
              "      <th>land</th>\n",
              "      <td>18.0</td>\n",
              "      <td>7.0</td>\n",
              "      <td>NaN</td>\n",
              "      <td>NaN</td>\n",
              "    </tr>\n",
              "    <tr>\n",
              "      <th>imap</th>\n",
              "      <td>11.0</td>\n",
              "      <td>1.0</td>\n",
              "      <td>11.0</td>\n",
              "      <td>1.0</td>\n",
              "    </tr>\n",
              "    <tr>\n",
              "      <th>rootkit</th>\n",
              "      <td>10.0</td>\n",
              "      <td>13.0</td>\n",
              "      <td>NaN</td>\n",
              "      <td>NaN</td>\n",
              "    </tr>\n",
              "    <tr>\n",
              "      <th>loadmodule</th>\n",
              "      <td>9.0</td>\n",
              "      <td>2.0</td>\n",
              "      <td>NaN</td>\n",
              "      <td>NaN</td>\n",
              "    </tr>\n",
              "    <tr>\n",
              "      <th>ftp_write</th>\n",
              "      <td>8.0</td>\n",
              "      <td>3.0</td>\n",
              "      <td>8.0</td>\n",
              "      <td>3.0</td>\n",
              "    </tr>\n",
              "    <tr>\n",
              "      <th>multihop</th>\n",
              "      <td>7.0</td>\n",
              "      <td>18.0</td>\n",
              "      <td>NaN</td>\n",
              "      <td>NaN</td>\n",
              "    </tr>\n",
              "    <tr>\n",
              "      <th>phf</th>\n",
              "      <td>4.0</td>\n",
              "      <td>2.0</td>\n",
              "      <td>NaN</td>\n",
              "      <td>NaN</td>\n",
              "    </tr>\n",
              "    <tr>\n",
              "      <th>perl</th>\n",
              "      <td>3.0</td>\n",
              "      <td>2.0</td>\n",
              "      <td>NaN</td>\n",
              "      <td>NaN</td>\n",
              "    </tr>\n",
              "    <tr>\n",
              "      <th>spy</th>\n",
              "      <td>2.0</td>\n",
              "      <td>NaN</td>\n",
              "      <td>NaN</td>\n",
              "      <td>NaN</td>\n",
              "    </tr>\n",
              "    <tr>\n",
              "      <th>apache2</th>\n",
              "      <td>NaN</td>\n",
              "      <td>737.0</td>\n",
              "      <td>NaN</td>\n",
              "      <td>NaN</td>\n",
              "    </tr>\n",
              "    <tr>\n",
              "      <th>httptunnel</th>\n",
              "      <td>NaN</td>\n",
              "      <td>133.0</td>\n",
              "      <td>NaN</td>\n",
              "      <td>133.0</td>\n",
              "    </tr>\n",
              "    <tr>\n",
              "      <th>mailbomb</th>\n",
              "      <td>NaN</td>\n",
              "      <td>293.0</td>\n",
              "      <td>NaN</td>\n",
              "      <td>293.0</td>\n",
              "    </tr>\n",
              "    <tr>\n",
              "      <th>mscan</th>\n",
              "      <td>NaN</td>\n",
              "      <td>996.0</td>\n",
              "      <td>NaN</td>\n",
              "      <td>NaN</td>\n",
              "    </tr>\n",
              "    <tr>\n",
              "      <th>named</th>\n",
              "      <td>NaN</td>\n",
              "      <td>17.0</td>\n",
              "      <td>NaN</td>\n",
              "      <td>NaN</td>\n",
              "    </tr>\n",
              "    <tr>\n",
              "      <th>processtable</th>\n",
              "      <td>NaN</td>\n",
              "      <td>685.0</td>\n",
              "      <td>NaN</td>\n",
              "      <td>NaN</td>\n",
              "    </tr>\n",
              "    <tr>\n",
              "      <th>ps</th>\n",
              "      <td>NaN</td>\n",
              "      <td>15.0</td>\n",
              "      <td>NaN</td>\n",
              "      <td>NaN</td>\n",
              "    </tr>\n",
              "    <tr>\n",
              "      <th>saint</th>\n",
              "      <td>NaN</td>\n",
              "      <td>319.0</td>\n",
              "      <td>NaN</td>\n",
              "      <td>NaN</td>\n",
              "    </tr>\n",
              "    <tr>\n",
              "      <th>sendmail</th>\n",
              "      <td>NaN</td>\n",
              "      <td>14.0</td>\n",
              "      <td>NaN</td>\n",
              "      <td>NaN</td>\n",
              "    </tr>\n",
              "    <tr>\n",
              "      <th>snmpgetattack</th>\n",
              "      <td>NaN</td>\n",
              "      <td>178.0</td>\n",
              "      <td>NaN</td>\n",
              "      <td>NaN</td>\n",
              "    </tr>\n",
              "    <tr>\n",
              "      <th>snmpguess</th>\n",
              "      <td>NaN</td>\n",
              "      <td>331.0</td>\n",
              "      <td>NaN</td>\n",
              "      <td>NaN</td>\n",
              "    </tr>\n",
              "    <tr>\n",
              "      <th>sqlattack</th>\n",
              "      <td>NaN</td>\n",
              "      <td>2.0</td>\n",
              "      <td>NaN</td>\n",
              "      <td>NaN</td>\n",
              "    </tr>\n",
              "    <tr>\n",
              "      <th>udpstorm</th>\n",
              "      <td>NaN</td>\n",
              "      <td>2.0</td>\n",
              "      <td>NaN</td>\n",
              "      <td>2.0</td>\n",
              "    </tr>\n",
              "    <tr>\n",
              "      <th>worm</th>\n",
              "      <td>NaN</td>\n",
              "      <td>2.0</td>\n",
              "      <td>NaN</td>\n",
              "      <td>2.0</td>\n",
              "    </tr>\n",
              "    <tr>\n",
              "      <th>xlock</th>\n",
              "      <td>NaN</td>\n",
              "      <td>9.0</td>\n",
              "      <td>NaN</td>\n",
              "      <td>NaN</td>\n",
              "    </tr>\n",
              "    <tr>\n",
              "      <th>xsnoop</th>\n",
              "      <td>NaN</td>\n",
              "      <td>4.0</td>\n",
              "      <td>NaN</td>\n",
              "      <td>4.0</td>\n",
              "    </tr>\n",
              "    <tr>\n",
              "      <th>xterm</th>\n",
              "      <td>NaN</td>\n",
              "      <td>13.0</td>\n",
              "      <td>NaN</td>\n",
              "      <td>NaN</td>\n",
              "    </tr>\n",
              "  </tbody>\n",
              "</table>\n",
              "</div>"
            ],
            "text/plain": [
              "                 NSL_KDD_Train  NSL_KDD_Test  CAV_Train  CAV_Test\n",
              "normal                 67343.0        9711.0    67343.0    9711.0\n",
              "neptune                41214.0        4657.0    41214.0    4657.0\n",
              "satan                   3633.0         735.0        NaN       NaN\n",
              "ipsweep                 3599.0         141.0     3599.0     141.0\n",
              "portsweep               2931.0         157.0        NaN       NaN\n",
              "smurf                   2646.0         665.0     2646.0     665.0\n",
              "nmap                    1493.0          73.0        NaN       NaN\n",
              "back                     956.0         359.0        NaN       NaN\n",
              "teardrop                 892.0          12.0      892.0      12.0\n",
              "warezclient              890.0           NaN        NaN       NaN\n",
              "pod                      201.0          41.0      201.0      41.0\n",
              "guess_passwd              53.0        1231.0       53.0    1231.0\n",
              "buffer_overflow           30.0          20.0       30.0      20.0\n",
              "warezmaster               20.0         944.0        NaN       NaN\n",
              "land                      18.0           7.0        NaN       NaN\n",
              "imap                      11.0           1.0       11.0       1.0\n",
              "rootkit                   10.0          13.0        NaN       NaN\n",
              "loadmodule                 9.0           2.0        NaN       NaN\n",
              "ftp_write                  8.0           3.0        8.0       3.0\n",
              "multihop                   7.0          18.0        NaN       NaN\n",
              "phf                        4.0           2.0        NaN       NaN\n",
              "perl                       3.0           2.0        NaN       NaN\n",
              "spy                        2.0           NaN        NaN       NaN\n",
              "apache2                    NaN         737.0        NaN       NaN\n",
              "httptunnel                 NaN         133.0        NaN     133.0\n",
              "mailbomb                   NaN         293.0        NaN     293.0\n",
              "mscan                      NaN         996.0        NaN       NaN\n",
              "named                      NaN          17.0        NaN       NaN\n",
              "processtable               NaN         685.0        NaN       NaN\n",
              "ps                         NaN          15.0        NaN       NaN\n",
              "saint                      NaN         319.0        NaN       NaN\n",
              "sendmail                   NaN          14.0        NaN       NaN\n",
              "snmpgetattack              NaN         178.0        NaN       NaN\n",
              "snmpguess                  NaN         331.0        NaN       NaN\n",
              "sqlattack                  NaN           2.0        NaN       NaN\n",
              "udpstorm                   NaN           2.0        NaN       2.0\n",
              "worm                       NaN           2.0        NaN       2.0\n",
              "xlock                      NaN           9.0        NaN       NaN\n",
              "xsnoop                     NaN           4.0        NaN       4.0\n",
              "xterm                      NaN          13.0        NaN       NaN"
            ]
          },
          "metadata": {
            "tags": []
          },
          "execution_count": 9
        }
      ]
    },
    {
      "cell_type": "code",
      "metadata": {
        "id": "-ekXU3_AsqDR",
        "colab": {
          "base_uri": "https://localhost:8080/"
        },
        "outputId": "52099b66-ae36-474e-97f7-d6b88bb67f2a"
      },
      "source": [
        "cav_train.info()"
      ],
      "execution_count": 10,
      "outputs": [
        {
          "output_type": "stream",
          "text": [
            "<class 'pandas.core.frame.DataFrame'>\n",
            "Int64Index: 115997 entries, 0 to 125972\n",
            "Data columns (total 42 columns):\n",
            " #   Column                       Non-Null Count   Dtype  \n",
            "---  ------                       --------------   -----  \n",
            " 0   duration                     115997 non-null  int64  \n",
            " 1   protocol_type                115997 non-null  object \n",
            " 2   service                      115997 non-null  object \n",
            " 3   flag                         115997 non-null  object \n",
            " 4   src_bytes                    115997 non-null  int64  \n",
            " 5   dst_bytes                    115997 non-null  int64  \n",
            " 6   land                         115997 non-null  int64  \n",
            " 7   wrong_fragment               115997 non-null  int64  \n",
            " 8   urgent                       115997 non-null  int64  \n",
            " 9   hot                          115997 non-null  int64  \n",
            " 10  num_failed_logins            115997 non-null  int64  \n",
            " 11  logged_in                    115997 non-null  int64  \n",
            " 12  num_compromised              115997 non-null  int64  \n",
            " 13  root_shell                   115997 non-null  int64  \n",
            " 14  su_attempted                 115997 non-null  int64  \n",
            " 15  num_root                     115997 non-null  int64  \n",
            " 16  num_file_creations           115997 non-null  int64  \n",
            " 17  num_shells                   115997 non-null  int64  \n",
            " 18  num_access_files             115997 non-null  int64  \n",
            " 19  num_outbound_cmds            115997 non-null  int64  \n",
            " 20  is_host_login                115997 non-null  int64  \n",
            " 21  is_guest_login               115997 non-null  int64  \n",
            " 22  count                        115997 non-null  int64  \n",
            " 23  srv_count                    115997 non-null  int64  \n",
            " 24  serror_rate                  115997 non-null  float64\n",
            " 25  srv_serror_rate              115997 non-null  float64\n",
            " 26  rerror_rate                  115997 non-null  float64\n",
            " 27  srv_rerror_rate              115997 non-null  float64\n",
            " 28  same_srv_rate                115997 non-null  float64\n",
            " 29  diff_srv_rate                115997 non-null  float64\n",
            " 30  srv_diff_host_rate           115997 non-null  float64\n",
            " 31  dst_host_count               115997 non-null  int64  \n",
            " 32  dst_host_srv_count           115997 non-null  int64  \n",
            " 33  dst_host_same_srv_rate       115997 non-null  float64\n",
            " 34  dst_host_diff_srv_rate       115997 non-null  float64\n",
            " 35  dst_host_same_src_port_rate  115997 non-null  float64\n",
            " 36  dst_host_srv_diff_host_rate  115997 non-null  float64\n",
            " 37  dst_host_serror_rate         115997 non-null  float64\n",
            " 38  dst_host_srv_serror_rate     115997 non-null  float64\n",
            " 39  dst_host_rerror_rate         115997 non-null  float64\n",
            " 40  dst_host_srv_rerror_rate     115997 non-null  float64\n",
            " 41  labels                       115997 non-null  object \n",
            "dtypes: float64(15), int64(23), object(4)\n",
            "memory usage: 38.1+ MB\n"
          ],
          "name": "stdout"
        }
      ]
    },
    {
      "cell_type": "code",
      "metadata": {
        "id": "fJM9FsXP6nBp"
      },
      "source": [
        "from sklearn import preprocessing\n",
        "\n",
        "le = preprocessing.LabelEncoder()\n",
        "for i in columns:\n",
        "    cav_train[i] = le.fit_transform(cav_train[i])\n",
        "    cav_test[i] = le.fit_transform(cav_test[i])"
      ],
      "execution_count": 11,
      "outputs": []
    },
    {
      "cell_type": "code",
      "metadata": {
        "id": "ibWy7hSLkiiE"
      },
      "source": [
        "from sklearn.preprocessing import StandardScaler"
      ],
      "execution_count": 12,
      "outputs": []
    },
    {
      "cell_type": "code",
      "metadata": {
        "id": "LG0ljmqV6nBq"
      },
      "source": [
        "x_train = cav_train.drop(columns= ['labels'])\n",
        "y_train = cav_train['labels']\n",
        "x_test = cav_test.drop(columns= ['labels'])\n",
        "y_test = cav_test['labels']"
      ],
      "execution_count": 13,
      "outputs": []
    },
    {
      "cell_type": "code",
      "metadata": {
        "id": "AHRWskAKlYUH"
      },
      "source": [
        "#scaling the data\n",
        "sc=StandardScaler()\n",
        "x_sc = sc.fit_transform(x_train)\n",
        "xt_sc=sc.transform(x_test)"
      ],
      "execution_count": 14,
      "outputs": []
    },
    {
      "cell_type": "code",
      "metadata": {
        "id": "cPpTaqYZ6nB9"
      },
      "source": [
        "from keras.models import Sequential\r\n",
        "from keras.layers import Dense, Input\r\n",
        "from keras.wrappers.scikit_learn import KerasClassifier\r\n",
        "from keras.utils import np_utils\r\n",
        "from sklearn.model_selection import cross_val_score\r\n",
        "from sklearn.model_selection import KFold\r\n",
        "from sklearn.preprocessing import LabelEncoder\r\n",
        "from sklearn.pipeline import Pipeline\r\n",
        "from keras import layers, models"
      ],
      "execution_count": 15,
      "outputs": []
    },
    {
      "cell_type": "code",
      "metadata": {
        "id": "-KOAfCzl7ru-"
      },
      "source": [
        "train_dataset = cav_train.values\r\n",
        "X_train = train_dataset[:,:40]\r\n",
        "y_train = train_dataset[:,41]\r\n",
        "\r\n",
        "test_dataset = cav_test.values\r\n",
        "X_test = test_dataset[:,:40]\r\n",
        "y_test = test_dataset[:,41]"
      ],
      "execution_count": 16,
      "outputs": []
    },
    {
      "cell_type": "code",
      "metadata": {
        "colab": {
          "base_uri": "https://localhost:8080/"
        },
        "id": "mIIIF7lfPsNp",
        "outputId": "6788180b-8a98-42fd-80b7-31c41a3b3d65"
      },
      "source": [
        "from numpy import array\r\n",
        "from numpy import argmax\r\n",
        "from keras.utils import to_categorical\r\n",
        "\r\n",
        "# one hot encode\r\n",
        "encoded_ytrain = to_categorical(y_train)\r\n",
        "encoded_ytest = to_categorical(y_test)\r\n",
        "\r\n",
        "print(encoded_ytrain)\r\n",
        "print(encoded_ytest)\r\n",
        "# invert encoding\r\n",
        "inverted = argmax(encoded_ytrain[0])\r\n",
        "print(inverted)\r\n",
        "\r\n",
        "y_inverted = []\r\n",
        "for i in encoded_ytest:\r\n",
        "  y_inverted.append(argmax(i))"
      ],
      "execution_count": 17,
      "outputs": [
        {
          "output_type": "stream",
          "text": [
            "[[0. 0. 0. ... 0. 0. 0.]\n",
            " [0. 0. 0. ... 0. 0. 0.]\n",
            " [0. 0. 0. ... 0. 0. 0.]\n",
            " ...\n",
            " [0. 0. 0. ... 0. 0. 0.]\n",
            " [0. 0. 0. ... 0. 0. 0.]\n",
            " [0. 0. 0. ... 0. 0. 0.]]\n",
            "[[0. 0. 0. ... 0. 0. 0.]\n",
            " [0. 0. 0. ... 0. 0. 0.]\n",
            " [0. 0. 0. ... 0. 0. 0.]\n",
            " ...\n",
            " [0. 0. 0. ... 0. 0. 0.]\n",
            " [0. 0. 0. ... 0. 0. 0.]\n",
            " [0. 0. 0. ... 0. 0. 0.]]\n",
            "6\n"
          ],
          "name": "stdout"
        }
      ]
    },
    {
      "cell_type": "code",
      "metadata": {
        "id": "OqU21EpD-6kw"
      },
      "source": [
        "# mlp for multi-label classification\r\n",
        "from numpy import mean\r\n",
        "from numpy import std\r\n",
        "from sklearn.model_selection import RepeatedKFold\r\n",
        "from keras.models import Sequential\r\n",
        "from keras.layers import Dense\r\n",
        "from sklearn.metrics import accuracy_score, classification_report\r\n",
        "from sklearn.model_selection import train_test_split\r\n",
        "\r\n",
        "# get the model\r\n",
        "def get_model(n_inputs, n_outputs):\r\n",
        "  model = Sequential()\r\n",
        "  model.add(Dense(80, input_dim=n_inputs, activation='relu'))\r\n",
        "  model.add(Dense(160, activation='relu'))\r\n",
        "  model.add(Dense(80, activation='relu'))\r\n",
        "  model.add(Dense(n_outputs, activation='sigmoid'))\r\n",
        "  model.compile(loss='categorical_crossentropy', optimizer='adam',metrics=['accuracy'])\r\n",
        "  return model\r\n",
        "\r\n",
        "# evaluate a model using repeated k-fold cross-validation\r\n",
        "def evaluate_model(X, y, X_test, y_test):\r\n",
        "  n_inputs, n_outputs = X.shape[1], y.shape[1]\r\n",
        "  X_train, X_val, y_train, y_val = train_test_split(X, y, test_size=0.2, random_state=42)\r\n",
        "  # define model\r\n",
        "  model = get_model(n_inputs, n_outputs)\r\n",
        "  model.summary()\r\n",
        "  # fit model\r\n",
        "  model.fit(X_train, y_train, verbose=1, epochs=10, validation_data = (X_val, y_val))\r\n",
        "  # make a prediction on the test set\r\n",
        "  yhat = model.predict(X_test)\r\n",
        "  inverted = []\r\n",
        "  for i in yhat:\r\n",
        "    inverted.append(argmax(i))  \r\n",
        "  inverted = np.array(inverted)\r\n",
        "  print(inverted)\r\n",
        "  # # calculate accuracy\r\n",
        "  report = classification_report(y_test, inverted)\r\n",
        "  print(report)\r\n",
        "  return report\r\n"
      ],
      "execution_count": 18,
      "outputs": []
    },
    {
      "cell_type": "code",
      "metadata": {
        "colab": {
          "base_uri": "https://localhost:8080/"
        },
        "id": "OAyNlXxrXtVk",
        "outputId": "9b7025ba-6597-4575-eb42-49172f19b4e7"
      },
      "source": [
        "# evaluate model\r\n",
        "results = evaluate_model(x_train, encoded_ytrain, x_test, y_inverted)"
      ],
      "execution_count": 19,
      "outputs": [
        {
          "output_type": "stream",
          "text": [
            "Model: \"sequential\"\n",
            "_________________________________________________________________\n",
            "Layer (type)                 Output Shape              Param #   \n",
            "=================================================================\n",
            "dense (Dense)                (None, 80)                3360      \n",
            "_________________________________________________________________\n",
            "dense_1 (Dense)              (None, 160)               12960     \n",
            "_________________________________________________________________\n",
            "dense_2 (Dense)              (None, 80)                12880     \n",
            "_________________________________________________________________\n",
            "dense_3 (Dense)              (None, 10)                810       \n",
            "=================================================================\n",
            "Total params: 30,010\n",
            "Trainable params: 30,010\n",
            "Non-trainable params: 0\n",
            "_________________________________________________________________\n",
            "Epoch 1/10\n",
            "2900/2900 [==============================] - 7s 2ms/step - loss: 0.4554 - accuracy: 0.9567 - val_loss: 0.4374 - val_accuracy: 0.9632\n",
            "Epoch 2/10\n",
            "2900/2900 [==============================] - 7s 2ms/step - loss: 0.4434 - accuracy: 0.9629 - val_loss: 0.4433 - val_accuracy: 0.9647\n",
            "Epoch 3/10\n",
            "2900/2900 [==============================] - 7s 2ms/step - loss: 0.4470 - accuracy: 0.9612 - val_loss: 0.4429 - val_accuracy: 0.9611\n",
            "Epoch 4/10\n",
            "2900/2900 [==============================] - 7s 2ms/step - loss: 0.4525 - accuracy: 0.9615 - val_loss: 0.4365 - val_accuracy: 0.9615\n",
            "Epoch 5/10\n",
            "2900/2900 [==============================] - 7s 2ms/step - loss: 0.4513 - accuracy: 0.9612 - val_loss: 0.4389 - val_accuracy: 0.9622\n",
            "Epoch 6/10\n",
            "2900/2900 [==============================] - 7s 2ms/step - loss: 0.5832 - accuracy: 0.9556 - val_loss: 0.4461 - val_accuracy: 0.9617\n",
            "Epoch 7/10\n",
            "2900/2900 [==============================] - 7s 2ms/step - loss: 0.4730 - accuracy: 0.9623 - val_loss: 0.4354 - val_accuracy: 0.9624\n",
            "Epoch 8/10\n",
            "2900/2900 [==============================] - 7s 2ms/step - loss: 0.4510 - accuracy: 0.9587 - val_loss: 0.4385 - val_accuracy: 0.9576\n",
            "Epoch 9/10\n",
            "2900/2900 [==============================] - 7s 2ms/step - loss: 0.4464 - accuracy: 0.9636 - val_loss: 0.4448 - val_accuracy: 0.9648\n",
            "Epoch 10/10\n",
            "2900/2900 [==============================] - 7s 2ms/step - loss: 0.4518 - accuracy: 0.9611 - val_loss: 0.4409 - val_accuracy: 0.9610\n",
            "[5 5 6 ... 6 6 6]\n",
            "              precision    recall  f1-score   support\n",
            "\n",
            "           0       0.00      0.00      0.00        20\n",
            "           1       0.00      0.00      0.00         3\n",
            "           2       0.00      0.00      0.00      1231\n",
            "           3       0.00      0.00      0.00       133\n",
            "           4       0.00      0.00      0.00         1\n",
            "           5       0.00      0.00      0.00       141\n",
            "           6       0.02      1.00      0.05       293\n",
            "           7       0.00      0.00      0.00      4657\n",
            "           8       0.00      0.00      0.00      9711\n",
            "           9       0.00      0.00      0.00        41\n",
            "          10       0.00      0.00      0.00       665\n",
            "          11       0.00      0.00      0.00        12\n",
            "          12       0.00      0.00      0.00         2\n",
            "          13       0.00      0.00      0.00         2\n",
            "          14       0.00      0.00      0.00         4\n",
            "\n",
            "    accuracy                           0.02     16916\n",
            "   macro avg       0.00      0.07      0.00     16916\n",
            "weighted avg       0.00      0.02      0.00     16916\n",
            "\n"
          ],
          "name": "stdout"
        }
      ]
    }
  ]
}