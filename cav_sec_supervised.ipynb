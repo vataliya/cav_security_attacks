{
  "nbformat": 4,
  "nbformat_minor": 0,
  "metadata": {
    "colab": {
      "name": "cav_sec_supervised.ipynb",
      "provenance": [],
      "collapsed_sections": [],
      "include_colab_link": true
    },
    "kernelspec": {
      "display_name": "Python 3",
      "language": "python",
      "name": "python3"
    },
    "language_info": {
      "codemirror_mode": {
        "name": "ipython",
        "version": 3
      },
      "file_extension": ".py",
      "mimetype": "text/x-python",
      "name": "python",
      "nbconvert_exporter": "python",
      "pygments_lexer": "ipython3",
      "version": "3.6.12"
    }
  },
  "cells": [
    {
      "cell_type": "markdown",
      "metadata": {
        "id": "view-in-github",
        "colab_type": "text"
      },
      "source": [
        "<a href=\"https://colab.research.google.com/github/vataliya/cav_security_attacls/blob/main/cav_sec_supervised.ipynb\" target=\"_parent\"><img src=\"https://colab.research.google.com/assets/colab-badge.svg\" alt=\"Open In Colab\"/></a>"
      ]
    },
    {
      "cell_type": "code",
      "metadata": {
        "colab": {
          "base_uri": "https://localhost:8080/"
        },
        "id": "rklGh3ndqocX",
        "outputId": "ba73a9d4-1bea-48ca-e2f2-7bf388020148"
      },
      "source": [
        "from google.colab import drive\r\n",
        "drive.mount('/content/drive')"
      ],
      "execution_count": 1,
      "outputs": [
        {
          "output_type": "stream",
          "text": [
            "Mounted at /content/drive\n"
          ],
          "name": "stdout"
        }
      ]
    },
    {
      "cell_type": "code",
      "metadata": {
        "colab": {
          "base_uri": "https://localhost:8080/"
        },
        "id": "j6UqFq2nqo0B",
        "outputId": "dee873bc-c6b1-48d6-f798-f3e2ffd4eb32"
      },
      "source": [
        "cd drive/My\\ Drive/Colab\\ Notebooks/kdd99/NSL-KDD"
      ],
      "execution_count": 2,
      "outputs": [
        {
          "output_type": "stream",
          "text": [
            "/content/drive/My Drive/Colab Notebooks/kdd99/NSL-KDD\n"
          ],
          "name": "stdout"
        }
      ]
    },
    {
      "cell_type": "code",
      "metadata": {
        "id": "qQQ_-zgmqjHt"
      },
      "source": [
        "import time\n",
        "import pandas as pd\n",
        "import numpy as np\n",
        "import seaborn\n",
        "import matplotlib.pyplot as plt\n",
        "import matplotlib.cm as cm\n",
        "%matplotlib inline\n",
        "\n",
        "import warnings\n",
        "warnings.filterwarnings('ignore')"
      ],
      "execution_count": 3,
      "outputs": []
    },
    {
      "cell_type": "markdown",
      "metadata": {
        "id": "bB8DBL64suN2"
      },
      "source": [
        "**Data Preprocessing**"
      ]
    },
    {
      "cell_type": "code",
      "metadata": {
        "id": "LMZdB01pqjHy"
      },
      "source": [
        "columns = ['duration',\n",
        "    'protocol_type',\n",
        "    'service',\n",
        "    'flag',\n",
        "    'src_bytes',\n",
        "    'dst_bytes',\n",
        "    'land',\n",
        "    'wrong_fragment',\n",
        "    'urgent',\n",
        "    'hot',\n",
        "    'num_failed_logins',\n",
        "    'logged_in',\n",
        "    'num_compromised',\n",
        "    'root_shell',\n",
        "    'su_attempted',\n",
        "    'num_root',\n",
        "    'num_file_creations',\n",
        "    'num_shells',\n",
        "    'num_access_files',\n",
        "    'num_outbound_cmds',\n",
        "    'is_host_login',\n",
        "    'is_guest_login',\n",
        "    'count',\n",
        "    'srv_count',\n",
        "    'serror_rate',\n",
        "    'srv_serror_rate',\n",
        "    'rerror_rate',\n",
        "    'srv_rerror_rate',\n",
        "    'same_srv_rate',\n",
        "    'diff_srv_rate',\n",
        "    'srv_diff_host_rate',\n",
        "    'dst_host_count',\n",
        "    'dst_host_srv_count',\n",
        "    'dst_host_same_srv_rate',\n",
        "    'dst_host_diff_srv_rate',\n",
        "    'dst_host_same_src_port_rate',\n",
        "    'dst_host_srv_diff_host_rate',\n",
        "    'dst_host_serror_rate',\n",
        "    'dst_host_srv_serror_rate',\n",
        "    'dst_host_rerror_rate',\n",
        "    'dst_host_srv_rerror_rate',\n",
        "    'labels'\n",
        "]\n",
        "\n",
        "attacks_list = [\n",
        "    'ipsweep',\n",
        "    'imap',\n",
        "    'mailbomb', \n",
        "    'neptune', \n",
        "    'pod', \n",
        "    'smurf', \n",
        "    'teardrop', \n",
        "    'udpstorm',\n",
        "    'buffer_overflow', \n",
        "    'httptunnel',\n",
        "    'ftp_write', \n",
        "    'guess_passwd', \n",
        "    'worm', \n",
        "    'xsnoop',\n",
        "    'normal']"
      ],
      "execution_count": 4,
      "outputs": []
    },
    {
      "cell_type": "code",
      "metadata": {
        "id": "dHx2frpXqjH1"
      },
      "source": [
        "nsl_kdd_20p_train = pd.read_csv('KDDTrain+_20Percent.txt', names = columns, index_col=False)\n",
        "nsl_kdd_20p_test = pd.read_csv('KDDTest-21.txt', names = columns, index_col=False)\n",
        "nsl_kdd_20p = pd.concat([nsl_kdd_20p_train,nsl_kdd_20p_test], sort = False)\n",
        "cav_20p = nsl_kdd_20p[nsl_kdd_20p['labels'].isin(attacks_list)]"
      ],
      "execution_count": 5,
      "outputs": []
    },
    {
      "cell_type": "code",
      "metadata": {
        "id": "eYU0J_a7qjH3"
      },
      "source": [
        "nsl_kdd_train = pd.read_csv('KDDTrain+.txt', names = columns, index_col=False)\n",
        "nsl_kdd_test = pd.read_csv('KDDTest+.txt', names = columns, index_col=False)\n",
        "nsl_kdd = pd.concat([nsl_kdd_train,nsl_kdd_test], sort = False)\n",
        "cav = nsl_kdd[nsl_kdd['labels'].isin(attacks_list)]"
      ],
      "execution_count": 6,
      "outputs": []
    },
    {
      "cell_type": "code",
      "metadata": {
        "id": "KQJNKHeMqjH5"
      },
      "source": [
        "nsl_kdd_list = nsl_kdd['labels'].value_counts()\n",
        "nsl_kdd_20p_list = nsl_kdd_20p['labels'].value_counts()\n",
        "cav_list = cav['labels'].value_counts()\n",
        "cav_20p_list = cav_20p['labels'].value_counts()"
      ],
      "execution_count": 7,
      "outputs": []
    },
    {
      "cell_type": "code",
      "metadata": {
        "colab": {
          "base_uri": "https://localhost:8080/",
          "height": 1000
        },
        "id": "4g2g2-3_qjH6",
        "outputId": "8aa2c2fe-0bf6-42b3-9f5f-dcd7f74d2c47"
      },
      "source": [
        "dataset_values = pd.DataFrame(index = nsl_kdd['labels'].unique(), columns = ['NSL_KDD', 'NSL_KDD_20p', 'CAV', 'CAV_20p'])\n",
        "dataset_values['NSL_KDD'] = nsl_kdd_list\n",
        "dataset_values['NSL_KDD_20p'] = nsl_kdd_20p_list\n",
        "dataset_values['CAV'] = cav_list\n",
        "dataset_values['CAV_20p'] = cav_20p_list\n",
        "dataset_values"
      ],
      "execution_count": 8,
      "outputs": [
        {
          "output_type": "execute_result",
          "data": {
            "text/html": [
              "<div>\n",
              "<style scoped>\n",
              "    .dataframe tbody tr th:only-of-type {\n",
              "        vertical-align: middle;\n",
              "    }\n",
              "\n",
              "    .dataframe tbody tr th {\n",
              "        vertical-align: top;\n",
              "    }\n",
              "\n",
              "    .dataframe thead th {\n",
              "        text-align: right;\n",
              "    }\n",
              "</style>\n",
              "<table border=\"1\" class=\"dataframe\">\n",
              "  <thead>\n",
              "    <tr style=\"text-align: right;\">\n",
              "      <th></th>\n",
              "      <th>NSL_KDD</th>\n",
              "      <th>NSL_KDD_20p</th>\n",
              "      <th>CAV</th>\n",
              "      <th>CAV_20p</th>\n",
              "    </tr>\n",
              "  </thead>\n",
              "  <tbody>\n",
              "    <tr>\n",
              "      <th>normal</th>\n",
              "      <td>77054</td>\n",
              "      <td>15601</td>\n",
              "      <td>77054.0</td>\n",
              "      <td>15601.0</td>\n",
              "    </tr>\n",
              "    <tr>\n",
              "      <th>neptune</th>\n",
              "      <td>45871</td>\n",
              "      <td>9861</td>\n",
              "      <td>45871.0</td>\n",
              "      <td>9861.0</td>\n",
              "    </tr>\n",
              "    <tr>\n",
              "      <th>warezclient</th>\n",
              "      <td>890</td>\n",
              "      <td>181</td>\n",
              "      <td>NaN</td>\n",
              "      <td>NaN</td>\n",
              "    </tr>\n",
              "    <tr>\n",
              "      <th>ipsweep</th>\n",
              "      <td>3740</td>\n",
              "      <td>851</td>\n",
              "      <td>3740.0</td>\n",
              "      <td>851.0</td>\n",
              "    </tr>\n",
              "    <tr>\n",
              "      <th>portsweep</th>\n",
              "      <td>3088</td>\n",
              "      <td>743</td>\n",
              "      <td>NaN</td>\n",
              "      <td>NaN</td>\n",
              "    </tr>\n",
              "    <tr>\n",
              "      <th>teardrop</th>\n",
              "      <td>904</td>\n",
              "      <td>200</td>\n",
              "      <td>904.0</td>\n",
              "      <td>200.0</td>\n",
              "    </tr>\n",
              "    <tr>\n",
              "      <th>nmap</th>\n",
              "      <td>1566</td>\n",
              "      <td>374</td>\n",
              "      <td>NaN</td>\n",
              "      <td>NaN</td>\n",
              "    </tr>\n",
              "    <tr>\n",
              "      <th>satan</th>\n",
              "      <td>4368</td>\n",
              "      <td>1418</td>\n",
              "      <td>NaN</td>\n",
              "      <td>NaN</td>\n",
              "    </tr>\n",
              "    <tr>\n",
              "      <th>smurf</th>\n",
              "      <td>3311</td>\n",
              "      <td>1156</td>\n",
              "      <td>3311.0</td>\n",
              "      <td>1156.0</td>\n",
              "    </tr>\n",
              "    <tr>\n",
              "      <th>pod</th>\n",
              "      <td>242</td>\n",
              "      <td>79</td>\n",
              "      <td>242.0</td>\n",
              "      <td>79.0</td>\n",
              "    </tr>\n",
              "    <tr>\n",
              "      <th>back</th>\n",
              "      <td>1315</td>\n",
              "      <td>555</td>\n",
              "      <td>NaN</td>\n",
              "      <td>NaN</td>\n",
              "    </tr>\n",
              "    <tr>\n",
              "      <th>guess_passwd</th>\n",
              "      <td>1284</td>\n",
              "      <td>1241</td>\n",
              "      <td>1284.0</td>\n",
              "      <td>1241.0</td>\n",
              "    </tr>\n",
              "    <tr>\n",
              "      <th>ftp_write</th>\n",
              "      <td>11</td>\n",
              "      <td>4</td>\n",
              "      <td>11.0</td>\n",
              "      <td>4.0</td>\n",
              "    </tr>\n",
              "    <tr>\n",
              "      <th>multihop</th>\n",
              "      <td>25</td>\n",
              "      <td>20</td>\n",
              "      <td>NaN</td>\n",
              "      <td>NaN</td>\n",
              "    </tr>\n",
              "    <tr>\n",
              "      <th>rootkit</th>\n",
              "      <td>23</td>\n",
              "      <td>17</td>\n",
              "      <td>NaN</td>\n",
              "      <td>NaN</td>\n",
              "    </tr>\n",
              "    <tr>\n",
              "      <th>buffer_overflow</th>\n",
              "      <td>50</td>\n",
              "      <td>26</td>\n",
              "      <td>50.0</td>\n",
              "      <td>26.0</td>\n",
              "    </tr>\n",
              "    <tr>\n",
              "      <th>imap</th>\n",
              "      <td>12</td>\n",
              "      <td>6</td>\n",
              "      <td>12.0</td>\n",
              "      <td>6.0</td>\n",
              "    </tr>\n",
              "    <tr>\n",
              "      <th>warezmaster</th>\n",
              "      <td>964</td>\n",
              "      <td>951</td>\n",
              "      <td>NaN</td>\n",
              "      <td>NaN</td>\n",
              "    </tr>\n",
              "    <tr>\n",
              "      <th>phf</th>\n",
              "      <td>6</td>\n",
              "      <td>4</td>\n",
              "      <td>NaN</td>\n",
              "      <td>NaN</td>\n",
              "    </tr>\n",
              "    <tr>\n",
              "      <th>land</th>\n",
              "      <td>25</td>\n",
              "      <td>8</td>\n",
              "      <td>NaN</td>\n",
              "      <td>NaN</td>\n",
              "    </tr>\n",
              "    <tr>\n",
              "      <th>loadmodule</th>\n",
              "      <td>11</td>\n",
              "      <td>3</td>\n",
              "      <td>NaN</td>\n",
              "      <td>NaN</td>\n",
              "    </tr>\n",
              "    <tr>\n",
              "      <th>spy</th>\n",
              "      <td>2</td>\n",
              "      <td>1</td>\n",
              "      <td>NaN</td>\n",
              "      <td>NaN</td>\n",
              "    </tr>\n",
              "    <tr>\n",
              "      <th>perl</th>\n",
              "      <td>5</td>\n",
              "      <td>2</td>\n",
              "      <td>NaN</td>\n",
              "      <td>NaN</td>\n",
              "    </tr>\n",
              "    <tr>\n",
              "      <th>saint</th>\n",
              "      <td>319</td>\n",
              "      <td>309</td>\n",
              "      <td>NaN</td>\n",
              "      <td>NaN</td>\n",
              "    </tr>\n",
              "    <tr>\n",
              "      <th>mscan</th>\n",
              "      <td>996</td>\n",
              "      <td>996</td>\n",
              "      <td>NaN</td>\n",
              "      <td>NaN</td>\n",
              "    </tr>\n",
              "    <tr>\n",
              "      <th>apache2</th>\n",
              "      <td>737</td>\n",
              "      <td>737</td>\n",
              "      <td>NaN</td>\n",
              "      <td>NaN</td>\n",
              "    </tr>\n",
              "    <tr>\n",
              "      <th>snmpgetattack</th>\n",
              "      <td>178</td>\n",
              "      <td>178</td>\n",
              "      <td>NaN</td>\n",
              "      <td>NaN</td>\n",
              "    </tr>\n",
              "    <tr>\n",
              "      <th>processtable</th>\n",
              "      <td>685</td>\n",
              "      <td>685</td>\n",
              "      <td>NaN</td>\n",
              "      <td>NaN</td>\n",
              "    </tr>\n",
              "    <tr>\n",
              "      <th>httptunnel</th>\n",
              "      <td>133</td>\n",
              "      <td>133</td>\n",
              "      <td>133.0</td>\n",
              "      <td>133.0</td>\n",
              "    </tr>\n",
              "    <tr>\n",
              "      <th>ps</th>\n",
              "      <td>15</td>\n",
              "      <td>15</td>\n",
              "      <td>NaN</td>\n",
              "      <td>NaN</td>\n",
              "    </tr>\n",
              "    <tr>\n",
              "      <th>snmpguess</th>\n",
              "      <td>331</td>\n",
              "      <td>331</td>\n",
              "      <td>NaN</td>\n",
              "      <td>NaN</td>\n",
              "    </tr>\n",
              "    <tr>\n",
              "      <th>mailbomb</th>\n",
              "      <td>293</td>\n",
              "      <td>293</td>\n",
              "      <td>293.0</td>\n",
              "      <td>293.0</td>\n",
              "    </tr>\n",
              "    <tr>\n",
              "      <th>named</th>\n",
              "      <td>17</td>\n",
              "      <td>17</td>\n",
              "      <td>NaN</td>\n",
              "      <td>NaN</td>\n",
              "    </tr>\n",
              "    <tr>\n",
              "      <th>sendmail</th>\n",
              "      <td>14</td>\n",
              "      <td>14</td>\n",
              "      <td>NaN</td>\n",
              "      <td>NaN</td>\n",
              "    </tr>\n",
              "    <tr>\n",
              "      <th>xterm</th>\n",
              "      <td>13</td>\n",
              "      <td>13</td>\n",
              "      <td>NaN</td>\n",
              "      <td>NaN</td>\n",
              "    </tr>\n",
              "    <tr>\n",
              "      <th>worm</th>\n",
              "      <td>2</td>\n",
              "      <td>2</td>\n",
              "      <td>2.0</td>\n",
              "      <td>2.0</td>\n",
              "    </tr>\n",
              "    <tr>\n",
              "      <th>xlock</th>\n",
              "      <td>9</td>\n",
              "      <td>9</td>\n",
              "      <td>NaN</td>\n",
              "      <td>NaN</td>\n",
              "    </tr>\n",
              "    <tr>\n",
              "      <th>xsnoop</th>\n",
              "      <td>4</td>\n",
              "      <td>4</td>\n",
              "      <td>4.0</td>\n",
              "      <td>4.0</td>\n",
              "    </tr>\n",
              "    <tr>\n",
              "      <th>sqlattack</th>\n",
              "      <td>2</td>\n",
              "      <td>2</td>\n",
              "      <td>NaN</td>\n",
              "      <td>NaN</td>\n",
              "    </tr>\n",
              "    <tr>\n",
              "      <th>udpstorm</th>\n",
              "      <td>2</td>\n",
              "      <td>2</td>\n",
              "      <td>2.0</td>\n",
              "      <td>2.0</td>\n",
              "    </tr>\n",
              "  </tbody>\n",
              "</table>\n",
              "</div>"
            ],
            "text/plain": [
              "                 NSL_KDD  NSL_KDD_20p      CAV  CAV_20p\n",
              "normal             77054        15601  77054.0  15601.0\n",
              "neptune            45871         9861  45871.0   9861.0\n",
              "warezclient          890          181      NaN      NaN\n",
              "ipsweep             3740          851   3740.0    851.0\n",
              "portsweep           3088          743      NaN      NaN\n",
              "teardrop             904          200    904.0    200.0\n",
              "nmap                1566          374      NaN      NaN\n",
              "satan               4368         1418      NaN      NaN\n",
              "smurf               3311         1156   3311.0   1156.0\n",
              "pod                  242           79    242.0     79.0\n",
              "back                1315          555      NaN      NaN\n",
              "guess_passwd        1284         1241   1284.0   1241.0\n",
              "ftp_write             11            4     11.0      4.0\n",
              "multihop              25           20      NaN      NaN\n",
              "rootkit               23           17      NaN      NaN\n",
              "buffer_overflow       50           26     50.0     26.0\n",
              "imap                  12            6     12.0      6.0\n",
              "warezmaster          964          951      NaN      NaN\n",
              "phf                    6            4      NaN      NaN\n",
              "land                  25            8      NaN      NaN\n",
              "loadmodule            11            3      NaN      NaN\n",
              "spy                    2            1      NaN      NaN\n",
              "perl                   5            2      NaN      NaN\n",
              "saint                319          309      NaN      NaN\n",
              "mscan                996          996      NaN      NaN\n",
              "apache2              737          737      NaN      NaN\n",
              "snmpgetattack        178          178      NaN      NaN\n",
              "processtable         685          685      NaN      NaN\n",
              "httptunnel           133          133    133.0    133.0\n",
              "ps                    15           15      NaN      NaN\n",
              "snmpguess            331          331      NaN      NaN\n",
              "mailbomb             293          293    293.0    293.0\n",
              "named                 17           17      NaN      NaN\n",
              "sendmail              14           14      NaN      NaN\n",
              "xterm                 13           13      NaN      NaN\n",
              "worm                   2            2      2.0      2.0\n",
              "xlock                  9            9      NaN      NaN\n",
              "xsnoop                 4            4      4.0      4.0\n",
              "sqlattack              2            2      NaN      NaN\n",
              "udpstorm               2            2      2.0      2.0"
            ]
          },
          "metadata": {
            "tags": []
          },
          "execution_count": 8
        }
      ]
    },
    {
      "cell_type": "code",
      "metadata": {
        "id": "U2d4jxVmqjH8"
      },
      "source": [
        "from sklearn import preprocessing\n",
        "\n",
        "le = preprocessing.LabelEncoder()\n",
        "for i in columns:\n",
        "    cav_20p[i] = le.fit_transform(cav_20p[i])\n",
        "    cav[i] = le.fit_transform(cav[i])"
      ],
      "execution_count": 9,
      "outputs": []
    },
    {
      "cell_type": "code",
      "metadata": {
        "id": "ibWy7hSLkiiE"
      },
      "source": [
        "from sklearn.preprocessing import StandardScaler"
      ],
      "execution_count": 10,
      "outputs": []
    },
    {
      "cell_type": "code",
      "metadata": {
        "id": "lVG-wjZwqjH_"
      },
      "source": [
        "x_train = cav_20p.drop(columns= ['labels'])\n",
        "y_train = cav_20p['labels']\n",
        "x_test = cav.drop(columns= ['labels'])\n",
        "y_test = cav['labels']"
      ],
      "execution_count": 11,
      "outputs": []
    },
    {
      "cell_type": "code",
      "metadata": {
        "id": "AHRWskAKlYUH"
      },
      "source": [
        "#scaling the data\n",
        "sc=StandardScaler()\n",
        "x_sc = sc.fit_transform(x_train)\n",
        "xt_sc=sc.transform(x_test)"
      ],
      "execution_count": 12,
      "outputs": []
    },
    {
      "cell_type": "code",
      "metadata": {
        "id": "4DTTAjjbPW7l"
      },
      "source": [
        "from sklearn.neighbors import KNeighborsClassifier\n",
        "from sklearn.linear_model import LogisticRegression\n",
        "from sklearn.svm import SVC\n",
        "from  sklearn.metrics import accuracy_score"
      ],
      "execution_count": 13,
      "outputs": []
    },
    {
      "cell_type": "markdown",
      "metadata": {
        "id": "eAhbLKOFYAJZ"
      },
      "source": [
        "**Dimensionality Reduction using PCA**"
      ]
    },
    {
      "cell_type": "code",
      "metadata": {
        "id": "hpvZszYfT-xq"
      },
      "source": [
        "from sklearn.decomposition import PCA\n",
        "from sklearn.manifold import LocallyLinearEmbedding"
      ],
      "execution_count": 14,
      "outputs": []
    },
    {
      "cell_type": "code",
      "metadata": {
        "colab": {
          "base_uri": "https://localhost:8080/"
        },
        "id": "Of7_ySoWT-vM",
        "outputId": "00a6ff89-d69c-468e-ca4d-35912c304303"
      },
      "source": [
        "pca=PCA(n_components=2)\n",
        "x_reduced=pca.fit_transform(x_sc)\n",
        "xt_reduced=pca.transform(xt_sc)\n",
        "x_reduced.shape"
      ],
      "execution_count": 15,
      "outputs": [
        {
          "output_type": "execute_result",
          "data": {
            "text/plain": [
              "(29459, 2)"
            ]
          },
          "metadata": {
            "tags": []
          },
          "execution_count": 15
        }
      ]
    },
    {
      "cell_type": "markdown",
      "metadata": {
        "id": "3h9RUal1gnSt"
      },
      "source": [
        "**Logistic Regression**"
      ]
    },
    {
      "cell_type": "code",
      "metadata": {
        "colab": {
          "base_uri": "https://localhost:8080/"
        },
        "id": "497X0U_jpK2p",
        "outputId": "08550602-07de-4bb4-f407-6bbe90af78cb"
      },
      "source": [
        "from sklearn.linear_model import LogisticRegression\n",
        "log=LogisticRegression()\n",
        "log.fit(x_reduced,y_train)\n",
        "log.score(x_reduced,y_train)"
      ],
      "execution_count": 16,
      "outputs": [
        {
          "output_type": "execute_result",
          "data": {
            "text/plain": [
              "0.8596354255066363"
            ]
          },
          "metadata": {
            "tags": []
          },
          "execution_count": 16
        }
      ]
    },
    {
      "cell_type": "code",
      "metadata": {
        "id": "vudsBcCcpv5y"
      },
      "source": [
        "c_range = [0.01, 0.1, 1, 10, 100]\n",
        "train_score_l1 = []\n",
        "train_score_l2 = []\n",
        "test_score_l1 = []\n",
        "test_score_l2 = []\n",
        "for c in c_range:\n",
        "    log_l1 = LogisticRegression(penalty = 'l1', C = c, solver='liblinear')\n",
        "    log_l2 = LogisticRegression(penalty = 'l2', C = c, solver='liblinear')\n",
        "    log_l1.fit(x_reduced, y_train)\n",
        "    log_l2.fit(x_reduced, y_train)\n",
        "    train_score_l1.append(log_l1.score(x_reduced, y_train))\n",
        "    train_score_l2.append(log_l2.score(x_reduced, y_train))\n",
        "    test_score_l1.append(log_l1.score(xt_reduced, y_test))\n",
        "    test_score_l2.append(log_l2.score(xt_reduced, y_test))"
      ],
      "execution_count": 17,
      "outputs": []
    },
    {
      "cell_type": "code",
      "metadata": {
        "colab": {
          "base_uri": "https://localhost:8080/"
        },
        "id": "F8HVZUwhqTED",
        "outputId": "a888146b-d50a-4bd6-d14e-6a87aee3c329"
      },
      "source": [
        "print('Train_score_l1:',train_score_l1)\n",
        "print('Test_score_l1:',test_score_l1)\n",
        "print('Train_score_l2:',train_score_l2)\n",
        "print('Test_score_l2:',test_score_l2)"
      ],
      "execution_count": 18,
      "outputs": [
        {
          "output_type": "stream",
          "text": [
            "Train_score_l1: [0.8574289690756645, 0.8602803896941512, 0.8612987542007536, 0.861332699684307, 0.861332699684307]\n",
            "Test_score_l1: [0.9213620940013392, 0.9134019998043833, 0.9117618291664472, 0.9116489733886076, 0.9116339259515623]\n",
            "Train_score_l2: [0.8524729284768662, 0.8582776061644998, 0.8604501171119182, 0.8612987542007536, 0.8612987542007536]\n",
            "Test_score_l2: [0.9171262404730914, 0.9214147600309978, 0.9120928727814435, 0.9116564971071303, 0.9116489733886076]\n"
          ],
          "name": "stdout"
        }
      ]
    },
    {
      "cell_type": "code",
      "metadata": {
        "colab": {
          "base_uri": "https://localhost:8080/"
        },
        "id": "Jrb6L70NrDJb",
        "outputId": "a407c2c7-24d7-46be-d1aa-2fd1ee177311"
      },
      "source": [
        "from sklearn.model_selection import GridSearchCV\n",
        "logit = LogisticRegression()\n",
        "param = { 'C':[0.01, 0.1, 1, 10, 100], 'penalty': ['l1','l2']}\n",
        "logistic = GridSearchCV(logit,param,cv=5, return_train_score=True)\n",
        "logistic.fit(x_reduced,y_train)"
      ],
      "execution_count": 19,
      "outputs": [
        {
          "output_type": "execute_result",
          "data": {
            "text/plain": [
              "GridSearchCV(cv=5, error_score=nan,\n",
              "             estimator=LogisticRegression(C=1.0, class_weight=None, dual=False,\n",
              "                                          fit_intercept=True,\n",
              "                                          intercept_scaling=1, l1_ratio=None,\n",
              "                                          max_iter=100, multi_class='auto',\n",
              "                                          n_jobs=None, penalty='l2',\n",
              "                                          random_state=None, solver='lbfgs',\n",
              "                                          tol=0.0001, verbose=0,\n",
              "                                          warm_start=False),\n",
              "             iid='deprecated', n_jobs=None,\n",
              "             param_grid={'C': [0.01, 0.1, 1, 10, 100], 'penalty': ['l1', 'l2']},\n",
              "             pre_dispatch='2*n_jobs', refit=True, return_train_score=True,\n",
              "             scoring=None, verbose=0)"
            ]
          },
          "metadata": {
            "tags": []
          },
          "execution_count": 19
        }
      ]
    },
    {
      "cell_type": "code",
      "metadata": {
        "colab": {
          "base_uri": "https://localhost:8080/"
        },
        "id": "QEv26tJor7Jr",
        "outputId": "901b857d-9cc0-40a2-be32-052f3b651ea6"
      },
      "source": [
        "logistic.best_params_"
      ],
      "execution_count": 20,
      "outputs": [
        {
          "output_type": "execute_result",
          "data": {
            "text/plain": [
              "{'C': 1, 'penalty': 'l2'}"
            ]
          },
          "metadata": {
            "tags": []
          },
          "execution_count": 20
        }
      ]
    },
    {
      "cell_type": "code",
      "metadata": {
        "colab": {
          "base_uri": "https://localhost:8080/"
        },
        "id": "m_QaGDLtmBI_",
        "outputId": "2106c488-42c6-44bd-bee4-46e9caedc5e6"
      },
      "source": [
        "logistic.best_score_"
      ],
      "execution_count": 21,
      "outputs": [
        {
          "output_type": "execute_result",
          "data": {
            "text/plain": [
              "0.8590241560791583"
            ]
          },
          "metadata": {
            "tags": []
          },
          "execution_count": 21
        }
      ]
    },
    {
      "cell_type": "code",
      "metadata": {
        "colab": {
          "base_uri": "https://localhost:8080/"
        },
        "id": "3VbkczGrhMwt",
        "outputId": "54d5354d-f1ab-440d-c484-7591f4672549"
      },
      "source": [
        "log=LogisticRegression(C=100, penalty='l2')\n",
        "log.fit(x_reduced,y_train)\n",
        "print(log.score(x_reduced,y_train))\n",
        "print(log.score(xt_reduced,y_test))"
      ],
      "execution_count": 22,
      "outputs": [
        {
          "output_type": "stream",
          "text": [
            "0.8596693709901898\n",
            "0.9065554159487785\n"
          ],
          "name": "stdout"
        }
      ]
    },
    {
      "cell_type": "code",
      "metadata": {
        "colab": {
          "base_uri": "https://localhost:8080/"
        },
        "id": "LfM3cQRSryjg",
        "outputId": "4a684896-960c-496a-b4c7-461f7e08e086"
      },
      "source": [
        "from sklearn.model_selection import cross_val_score\n",
        "print('Cross-validation scores:',cross_val_score(log,x_sc,y_train) )"
      ],
      "execution_count": 23,
      "outputs": [
        {
          "output_type": "stream",
          "text": [
            "Cross-validation scores: [0.99473863 0.99236253 0.99270197 0.99304141 0.9619759 ]\n"
          ],
          "name": "stdout"
        }
      ]
    },
    {
      "cell_type": "code",
      "metadata": {
        "id": "JZe4Qw8OsAW1"
      },
      "source": [
        "pred_log=log.predict(xt_reduced)"
      ],
      "execution_count": 24,
      "outputs": []
    },
    {
      "cell_type": "code",
      "metadata": {
        "colab": {
          "base_uri": "https://localhost:8080/"
        },
        "id": "myGUOJZ8t4m9",
        "outputId": "ce93b0a8-8744-432f-f25b-cff4e91de6d6"
      },
      "source": [
        "from sklearn.metrics import classification_report\n",
        "print(classification_report(y_test, pred_log, \n",
        "                            target_names=[\"0\", \"1\", \"2\",\"3\", \"4\", \"5\", \n",
        "                                          \"6\", \"7\",\"8\", \"9\",\"10\", \"11\", \"12\", \"13\", \"14\"]))"
      ],
      "execution_count": 25,
      "outputs": [
        {
          "output_type": "stream",
          "text": [
            "              precision    recall  f1-score   support\n",
            "\n",
            "           0       0.00      0.00      0.00        50\n",
            "           1       0.00      0.00      0.00        11\n",
            "           2       0.00      0.00      0.00      1284\n",
            "           3       0.00      0.00      0.00       133\n",
            "           4       0.00      0.00      0.00        12\n",
            "           5       0.01      0.00      0.00      3740\n",
            "           6       0.00      0.00      0.00       293\n",
            "           7       0.99      1.00      1.00     45871\n",
            "           8       0.88      0.97      0.92     77054\n",
            "           9       0.00      0.00      0.00       242\n",
            "          10       0.00      0.00      0.00      3311\n",
            "          11       0.00      0.00      0.00       904\n",
            "          12       0.00      0.00      0.00         2\n",
            "          13       0.00      0.00      0.00         2\n",
            "          14       0.00      0.00      0.00         4\n",
            "\n",
            "    accuracy                           0.91    132913\n",
            "   macro avg       0.13      0.13      0.13    132913\n",
            "weighted avg       0.86      0.91      0.88    132913\n",
            "\n"
          ],
          "name": "stdout"
        }
      ]
    },
    {
      "cell_type": "markdown",
      "metadata": {
        "id": "_I1-3kW7ge7u"
      },
      "source": [
        "**Decision Tree Classifier**"
      ]
    },
    {
      "cell_type": "code",
      "metadata": {
        "colab": {
          "base_uri": "https://localhost:8080/"
        },
        "id": "QwRZ_wuxICM2",
        "outputId": "8440446f-aab9-4c09-bdcc-5084100be286"
      },
      "source": [
        "from sklearn.tree import DecisionTreeClassifier\n",
        "tree= DecisionTreeClassifier(max_depth=1).fit(x_reduced, y_train)\n",
        "pred_tree= tree.predict(xt_reduced)\n",
        "print(\"Test score: {:.3f}\".format(tree.score(xt_reduced, y_test)))\n",
        "print(\"Train score: {:.3f}\".format(tree.score(x_reduced, y_train)))\n"
      ],
      "execution_count": 26,
      "outputs": [
        {
          "output_type": "stream",
          "text": [
            "Test score: 0.923\n",
            "Train score: 0.861\n"
          ],
          "name": "stdout"
        }
      ]
    },
    {
      "cell_type": "code",
      "metadata": {
        "colab": {
          "base_uri": "https://localhost:8080/"
        },
        "id": "29-fVXrirkyh",
        "outputId": "b3077e42-49d9-435c-a194-c5a9fb57811f"
      },
      "source": [
        "print(classification_report(y_test, pred_tree, target_names=[\"0\", \"1\", \"2\",\"3\", \"4\", \"5\", \n",
        "                                          \"6\", \"7\",\"8\", \"9\",\"10\", \"11\", \"12\", \"13\", \"14\"]))"
      ],
      "execution_count": 27,
      "outputs": [
        {
          "output_type": "stream",
          "text": [
            "              precision    recall  f1-score   support\n",
            "\n",
            "           0       0.00      0.00      0.00        50\n",
            "           1       0.00      0.00      0.00        11\n",
            "           2       0.00      0.00      0.00      1284\n",
            "           3       0.00      0.00      0.00       133\n",
            "           4       0.00      0.00      0.00        12\n",
            "           5       0.00      0.00      0.00      3740\n",
            "           6       0.00      0.00      0.00       293\n",
            "           7       0.98      1.00      0.99     45871\n",
            "           8       0.89      1.00      0.94     77054\n",
            "           9       0.00      0.00      0.00       242\n",
            "          10       0.00      0.00      0.00      3311\n",
            "          11       0.00      0.00      0.00       904\n",
            "          12       0.00      0.00      0.00         2\n",
            "          13       0.00      0.00      0.00         2\n",
            "          14       0.00      0.00      0.00         4\n",
            "\n",
            "    accuracy                           0.92    132913\n",
            "   macro avg       0.12      0.13      0.13    132913\n",
            "weighted avg       0.86      0.92      0.89    132913\n",
            "\n"
          ],
          "name": "stdout"
        }
      ]
    },
    {
      "cell_type": "code",
      "metadata": {
        "colab": {
          "base_uri": "https://localhost:8080/"
        },
        "id": "1Ia6f96rtI31",
        "outputId": "8aea3f9f-3353-4540-8217-ff5a4a341377"
      },
      "source": [
        "tree = DecisionTreeClassifier()\n",
        "param = { 'max_depth':[1,2,3,4,5,6,7,8,9,10]}\n",
        "dtree = GridSearchCV(tree,param,cv=5, return_train_score=True)\n",
        "dtree.fit(x_reduced,y_train)"
      ],
      "execution_count": 28,
      "outputs": [
        {
          "output_type": "execute_result",
          "data": {
            "text/plain": [
              "GridSearchCV(cv=5, error_score=nan,\n",
              "             estimator=DecisionTreeClassifier(ccp_alpha=0.0, class_weight=None,\n",
              "                                              criterion='gini', max_depth=None,\n",
              "                                              max_features=None,\n",
              "                                              max_leaf_nodes=None,\n",
              "                                              min_impurity_decrease=0.0,\n",
              "                                              min_impurity_split=None,\n",
              "                                              min_samples_leaf=1,\n",
              "                                              min_samples_split=2,\n",
              "                                              min_weight_fraction_leaf=0.0,\n",
              "                                              presort='deprecated',\n",
              "                                              random_state=None,\n",
              "                                              splitter='best'),\n",
              "             iid='deprecated', n_jobs=None,\n",
              "             param_grid={'max_depth': [1, 2, 3, 4, 5, 6, 7, 8, 9, 10]},\n",
              "             pre_dispatch='2*n_jobs', refit=True, return_train_score=True,\n",
              "             scoring=None, verbose=0)"
            ]
          },
          "metadata": {
            "tags": []
          },
          "execution_count": 28
        }
      ]
    },
    {
      "cell_type": "code",
      "metadata": {
        "colab": {
          "base_uri": "https://localhost:8080/"
        },
        "id": "5BS8H6yCtdF6",
        "outputId": "0b0443a4-ae19-46d6-ccca-f39ee8f03a17"
      },
      "source": [
        "dtree.best_params_"
      ],
      "execution_count": 29,
      "outputs": [
        {
          "output_type": "execute_result",
          "data": {
            "text/plain": [
              "{'max_depth': 10}"
            ]
          },
          "metadata": {
            "tags": []
          },
          "execution_count": 29
        }
      ]
    },
    {
      "cell_type": "code",
      "metadata": {
        "colab": {
          "base_uri": "https://localhost:8080/"
        },
        "id": "1t4LRRvrtfqJ",
        "outputId": "dec68750-4e4b-44f8-dabb-da007b18194b"
      },
      "source": [
        "dtree.best_score_"
      ],
      "execution_count": 30,
      "outputs": [
        {
          "output_type": "execute_result",
          "data": {
            "text/plain": [
              "0.9035600637192316"
            ]
          },
          "metadata": {
            "tags": []
          },
          "execution_count": 30
        }
      ]
    },
    {
      "cell_type": "code",
      "metadata": {
        "colab": {
          "base_uri": "https://localhost:8080/"
        },
        "id": "v5DX-27Ntq0I",
        "outputId": "5d9a304b-3f90-4e0a-d4eb-2cf39a0ef2bc"
      },
      "source": [
        "tree= DecisionTreeClassifier(max_depth=10).fit(x_reduced, y_train)\n",
        "pred_tree=tree.predict(xt_reduced)\n",
        "print(tree.score(x_reduced,y_train))\n",
        "print(tree.score(xt_reduced,y_test))"
      ],
      "execution_count": 31,
      "outputs": [
        {
          "output_type": "stream",
          "text": [
            "0.9264061916562002\n",
            "0.9033503118581327\n"
          ],
          "name": "stdout"
        }
      ]
    },
    {
      "cell_type": "code",
      "metadata": {
        "id": "KAq0u1truhdk"
      },
      "source": [
        "from sklearn.multiclass import OneVsOneClassifier"
      ],
      "execution_count": 32,
      "outputs": []
    },
    {
      "cell_type": "code",
      "metadata": {
        "id": "iRkb9-82uhZ3"
      },
      "source": [
        "clf = OneVsOneClassifier(tree).fit(x_reduced, y_train)\n",
        "y_pred = clf.predict(xt_reduced)"
      ],
      "execution_count": 33,
      "outputs": []
    },
    {
      "cell_type": "code",
      "metadata": {
        "colab": {
          "base_uri": "https://localhost:8080/"
        },
        "id": "8YouVqTvs5p8",
        "outputId": "cfbe6174-e18f-40f8-a4cc-895b1b3f5104"
      },
      "source": [
        "from sklearn.model_selection import cross_val_score\n",
        "print('Cross-validation scores:',cross_val_score(tree,x_reduced,y_train) )\n",
        "print('Cross-validation scores:',cross_val_score(clf,x_reduced,y_train) )"
      ],
      "execution_count": 34,
      "outputs": [
        {
          "output_type": "stream",
          "text": [
            "Cross-validation scores: [0.9059742  0.90546504 0.91479973 0.91242363 0.87947717]\n",
            "Cross-validation scores: [0.91955193 0.92175832 0.92464358 0.93075356 0.89713122]\n"
          ],
          "name": "stdout"
        }
      ]
    },
    {
      "cell_type": "markdown",
      "metadata": {
        "id": "6zifmA2owcYb"
      },
      "source": [
        "**LinearSVC**"
      ]
    },
    {
      "cell_type": "code",
      "metadata": {
        "id": "CpBnibkxO-4d"
      },
      "source": [
        "from sklearn.svm import LinearSVC, SVC"
      ],
      "execution_count": 35,
      "outputs": []
    },
    {
      "cell_type": "code",
      "metadata": {
        "colab": {
          "base_uri": "https://localhost:8080/"
        },
        "id": "gtjez1YXi7Dn",
        "outputId": "8687ac57-0068-4324-ad5c-9476799df964"
      },
      "source": [
        "svc=LinearSVC(C=10)\n",
        "svc.fit(x_reduced,y_train)\n",
        "pred_linearsvc=svc.predict(xt_reduced)\n",
        "print(svc.score(x_reduced,y_train))\n",
        "print(svc.score(xt_reduced,y_test))"
      ],
      "execution_count": 36,
      "outputs": [
        {
          "output_type": "stream",
          "text": [
            "0.8608914083981126\n",
            "0.9245521506549397\n"
          ],
          "name": "stdout"
        }
      ]
    },
    {
      "cell_type": "code",
      "metadata": {
        "colab": {
          "base_uri": "https://localhost:8080/"
        },
        "id": "x54KfFmqxoIT",
        "outputId": "64845f7f-2499-4986-e57a-eec23ea71106"
      },
      "source": [
        "linsvc = LinearSVC()\n",
        "param = { 'C':[0.01,0.1,1,10,100]}\n",
        "linear_svc= GridSearchCV(linsvc,param,cv=5, return_train_score=True)\n",
        "linear_svc.fit(x_reduced,y_train)"
      ],
      "execution_count": 37,
      "outputs": [
        {
          "output_type": "execute_result",
          "data": {
            "text/plain": [
              "GridSearchCV(cv=5, error_score=nan,\n",
              "             estimator=LinearSVC(C=1.0, class_weight=None, dual=True,\n",
              "                                 fit_intercept=True, intercept_scaling=1,\n",
              "                                 loss='squared_hinge', max_iter=1000,\n",
              "                                 multi_class='ovr', penalty='l2',\n",
              "                                 random_state=None, tol=0.0001, verbose=0),\n",
              "             iid='deprecated', n_jobs=None,\n",
              "             param_grid={'C': [0.01, 0.1, 1, 10, 100]}, pre_dispatch='2*n_jobs',\n",
              "             refit=True, return_train_score=True, scoring=None, verbose=0)"
            ]
          },
          "metadata": {
            "tags": []
          },
          "execution_count": 37
        }
      ]
    },
    {
      "cell_type": "code",
      "metadata": {
        "colab": {
          "base_uri": "https://localhost:8080/"
        },
        "id": "X7jgBV6Sxv0E",
        "outputId": "a1fb54ac-1929-4371-9d81-7e74fe412e14"
      },
      "source": [
        "linear_svc.best_params_"
      ],
      "execution_count": 38,
      "outputs": [
        {
          "output_type": "execute_result",
          "data": {
            "text/plain": [
              "{'C': 10}"
            ]
          },
          "metadata": {
            "tags": []
          },
          "execution_count": 38
        }
      ]
    },
    {
      "cell_type": "code",
      "metadata": {
        "colab": {
          "base_uri": "https://localhost:8080/"
        },
        "id": "qa7FtGG6xvon",
        "outputId": "0c2506f1-3a22-49e2-9d9d-d835526f08c2"
      },
      "source": [
        "linear_svc.best_score_"
      ],
      "execution_count": 39,
      "outputs": [
        {
          "output_type": "execute_result",
          "data": {
            "text/plain": [
              "0.8609250732041686"
            ]
          },
          "metadata": {
            "tags": []
          },
          "execution_count": 39
        }
      ]
    },
    {
      "cell_type": "code",
      "metadata": {
        "colab": {
          "base_uri": "https://localhost:8080/"
        },
        "id": "XLZw-AvFx9bQ",
        "outputId": "4356ecb4-9db9-448e-fc6b-3beb07f385c8"
      },
      "source": [
        "svc=LinearSVC(C=0.1)\n",
        "svc.fit(x_reduced,y_train)\n",
        "print(svc.score(x_reduced,y_train))\n",
        "print(svc.score(xt_reduced,y_test))"
      ],
      "execution_count": 40,
      "outputs": [
        {
          "output_type": "stream",
          "text": [
            "0.8605858990461319\n",
            "0.9244844371882359\n"
          ],
          "name": "stdout"
        }
      ]
    },
    {
      "cell_type": "code",
      "metadata": {
        "colab": {
          "base_uri": "https://localhost:8080/"
        },
        "id": "65OWF77fx1ha",
        "outputId": "ee443405-ed90-423c-a1e0-24e8d573c61a"
      },
      "source": [
        "print('Cross-validation scores:',cross_val_score(svc,x_reduced,y_train) )"
      ],
      "execution_count": 41,
      "outputs": [
        {
          "output_type": "stream",
          "text": [
            "Cross-validation scores: [0.86354379 0.86269518 0.86303462 0.8628649  0.84943134]\n"
          ],
          "name": "stdout"
        }
      ]
    },
    {
      "cell_type": "code",
      "metadata": {
        "colab": {
          "base_uri": "https://localhost:8080/"
        },
        "id": "_xJBpX0B65wU",
        "outputId": "19a887ff-3d97-469a-f817-e2cb9c2d81d2"
      },
      "source": [
        "from sklearn.metrics import classification_report\n",
        "\n",
        "print(classification_report(y_test, pred_linearsvc, target_names=[\"0\", \"1\", \"2\",\"3\", \"4\", \"5\", \n",
        "                                          \"6\", \"7\",\"8\", \"9\",\"10\", \"11\", \"12\", \"13\", \"14\"]))"
      ],
      "execution_count": 42,
      "outputs": [
        {
          "output_type": "stream",
          "text": [
            "              precision    recall  f1-score   support\n",
            "\n",
            "           0       0.00      0.00      0.00        50\n",
            "           1       0.00      0.00      0.00        11\n",
            "           2       0.00      0.00      0.00      1284\n",
            "           3       0.00      0.00      0.00       133\n",
            "           4       0.00      0.00      0.00        12\n",
            "           5       1.00      0.05      0.09      3740\n",
            "           6       0.00      0.00      0.00       293\n",
            "           7       0.99      1.00      0.99     45871\n",
            "           8       0.89      1.00      0.94     77054\n",
            "           9       0.00      0.00      0.00       242\n",
            "          10       0.00      0.00      0.00      3311\n",
            "          11       0.00      0.00      0.00       904\n",
            "          12       0.00      0.00      0.00         2\n",
            "          13       0.00      0.00      0.00         2\n",
            "          14       0.00      0.00      0.00         4\n",
            "\n",
            "    accuracy                           0.92    132913\n",
            "   macro avg       0.19      0.14      0.13    132913\n",
            "weighted avg       0.89      0.92      0.89    132913\n",
            "\n"
          ],
          "name": "stdout"
        }
      ]
    },
    {
      "cell_type": "markdown",
      "metadata": {
        "id": "sPp5PT-_f9dU"
      },
      "source": [
        "**K Nearest Neighbors Classifier**"
      ]
    },
    {
      "cell_type": "code",
      "metadata": {
        "colab": {
          "base_uri": "https://localhost:8080/"
        },
        "id": "Xb6ammgHuURp",
        "outputId": "f8f094cf-458a-4762-ee27-457b250c4776"
      },
      "source": [
        "from sklearn.neighbors import KNeighborsClassifier\n",
        "train_score_array = []\n",
        "test_score_array = []\n",
        "\n",
        "#Performing kNN model  5 fold cross validation:\n",
        "k_acc_scores = []\n",
        "k_cv_scores = []\n",
        "k_values = [i for i in range(100,1000,50)] #evaluating values of k as all odd numbers between 1 and 20\n",
        "\n",
        "for k in k_values:\n",
        "    print(k)\n",
        "    knn = KNeighborsClassifier(n_neighbors = 100)\n",
        "    knn.fit(x_reduced,y_train)\n",
        "    train_score_array.append(knn.score(x_reduced, y_train))\n",
        "    # test_score_array.append(knn.score(xt_reduced, y_test))\n",
        "    pred = knn.predict(xt_reduced)\n",
        "    k_acc_scores.append(\"k({}) = {}\".format(k, accuracy_score(y_test, pred)))\n",
        "    cv_scores = cross_val_score(knn, x_reduced, y_train, cv=5, scoring='accuracy', n_jobs = -1)\n",
        "    print(cv_scores)\n",
        "    k_cv_scores.append(cv_scores.mean())\n"
      ],
      "execution_count": 43,
      "outputs": [
        {
          "output_type": "stream",
          "text": [
            "100\n",
            "[0.89307536 0.89256619 0.90257977 0.90580448 0.89356646]\n",
            "150\n",
            "[0.89307536 0.89256619 0.90257977 0.90580448 0.89356646]\n",
            "200\n",
            "[0.89307536 0.89256619 0.90257977 0.90580448 0.89356646]\n",
            "250\n",
            "[0.89307536 0.89256619 0.90257977 0.90580448 0.89356646]\n",
            "300\n",
            "[0.89307536 0.89256619 0.90257977 0.90580448 0.89356646]\n",
            "350\n",
            "[0.89307536 0.89256619 0.90257977 0.90580448 0.89356646]\n",
            "400\n",
            "[0.89307536 0.89256619 0.90257977 0.90580448 0.89356646]\n",
            "450\n",
            "[0.89307536 0.89256619 0.90257977 0.90580448 0.89356646]\n",
            "500\n",
            "[0.89307536 0.89256619 0.90257977 0.90580448 0.89356646]\n",
            "550\n",
            "[0.89307536 0.89256619 0.90257977 0.90580448 0.89356646]\n",
            "600\n",
            "[0.89307536 0.89256619 0.90257977 0.90580448 0.89356646]\n",
            "650\n",
            "[0.89307536 0.89256619 0.90257977 0.90580448 0.89356646]\n",
            "700\n",
            "[0.89307536 0.89256619 0.90257977 0.90580448 0.89356646]\n",
            "750\n",
            "[0.89307536 0.89256619 0.90257977 0.90580448 0.89356646]\n",
            "800\n",
            "[0.89307536 0.89256619 0.90257977 0.90580448 0.89356646]\n",
            "850\n",
            "[0.89307536 0.89256619 0.90257977 0.90580448 0.89356646]\n",
            "900\n",
            "[0.89307536 0.89256619 0.90257977 0.90580448 0.89356646]\n",
            "950\n",
            "[0.89307536 0.89256619 0.90257977 0.90580448 0.89356646]\n"
          ],
          "name": "stdout"
        }
      ]
    },
    {
      "cell_type": "code",
      "metadata": {
        "id": "3OKm0iON7bN2"
      },
      "source": [
        "knn=KNeighborsClassifier()\n",
        "param = { 'n_neighbors':range(100,1000,50)}\n",
        "knnc= GridSearchCV(knn,param,cv=5, return_train_score=True)\n",
        "knnc.fit(x_reduced,y_train)"
      ],
      "execution_count": null,
      "outputs": []
    },
    {
      "cell_type": "code",
      "metadata": {
        "id": "qdgeC6QxAYP8"
      },
      "source": [
        "knnc.best_params_"
      ],
      "execution_count": null,
      "outputs": []
    },
    {
      "cell_type": "code",
      "metadata": {
        "id": "wHnzyKEeAbwr"
      },
      "source": [
        "knnc.best_score_"
      ],
      "execution_count": null,
      "outputs": []
    },
    {
      "cell_type": "code",
      "metadata": {
        "id": "nwHRTA11AfKc"
      },
      "source": [
        "print('Cross-validation scores:',cross_val_score(knn,x_reduced,y_train) )"
      ],
      "execution_count": null,
      "outputs": []
    },
    {
      "cell_type": "code",
      "metadata": {
        "id": "tM5HrGlS58Kn"
      },
      "source": [
        "from sklearn.metrics import classification_report, confusion_matrix\n",
        "\n",
        "print(classification_report(y_test, pred_knn, target_names=[\"0\", \"1\", \"2\",\"3\", \"4\", \"5\", \n",
        "                                          \"6\", \"7\",\"8\", \"9\",\"10\", \"11\", \"12\", \"13\", \"14\"]))"
      ],
      "execution_count": null,
      "outputs": []
    }
  ]
}