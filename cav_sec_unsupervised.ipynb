{
  "nbformat": 4,
  "nbformat_minor": 0,
  "metadata": {
    "kernelspec": {
      "display_name": "Python 3",
      "language": "python",
      "name": "python3"
    },
    "language_info": {
      "codemirror_mode": {
        "name": "ipython",
        "version": 3
      },
      "file_extension": ".py",
      "mimetype": "text/x-python",
      "name": "python",
      "nbconvert_exporter": "python",
      "pygments_lexer": "ipython3",
      "version": "3.6.12"
    },
    "colab": {
      "name": "cav_sec_unsupervised.ipynb",
      "provenance": [],
      "include_colab_link": true
    }
  },
  "cells": [
    {
      "cell_type": "markdown",
      "metadata": {
        "id": "view-in-github",
        "colab_type": "text"
      },
      "source": [
        "<a href=\"https://colab.research.google.com/github/vataliya/cav_security_attacls/blob/main/cav_sec_unsupervised.ipynb\" target=\"_parent\"><img src=\"https://colab.research.google.com/assets/colab-badge.svg\" alt=\"Open In Colab\"/></a>"
      ]
    },
    {
      "cell_type": "code",
      "metadata": {
        "colab": {
          "base_uri": "https://localhost:8080/"
        },
        "id": "Jp5cw9iYDQv3",
        "outputId": "73c172c1-e210-447c-9d79-e1b77238e32a"
      },
      "source": [
        "from google.colab import drive\r\n",
        "drive.mount('/content/drive')"
      ],
      "execution_count": 45,
      "outputs": [
        {
          "output_type": "stream",
          "text": [
            "Drive already mounted at /content/drive; to attempt to forcibly remount, call drive.mount(\"/content/drive\", force_remount=True).\n"
          ],
          "name": "stdout"
        }
      ]
    },
    {
      "cell_type": "code",
      "metadata": {
        "colab": {
          "base_uri": "https://localhost:8080/"
        },
        "id": "jK3y-tFDDRB0",
        "outputId": "e2938fe4-9113-4c50-e37b-a0b0e17bdab2"
      },
      "source": [
        "cd drive/My\\ Drive/Colab\\ Notebooks/kdd99/NSL-KDD"
      ],
      "execution_count": 46,
      "outputs": [
        {
          "output_type": "stream",
          "text": [
            "[Errno 2] No such file or directory: 'drive/My Drive/Colab Notebooks/kdd99/NSL-KDD'\n",
            "/content/drive/My Drive/Colab Notebooks/kdd99/NSL-KDD\n"
          ],
          "name": "stdout"
        }
      ]
    },
    {
      "cell_type": "code",
      "metadata": {
        "id": "rNsWeNuWzvGH"
      },
      "source": [
        "import time\n",
        "import pandas as pd\n",
        "import numpy as np\n",
        "import seaborn\n",
        "import matplotlib.pyplot as plt\n",
        "import matplotlib.cm as cm\n",
        "%matplotlib inline"
      ],
      "execution_count": 47,
      "outputs": []
    },
    {
      "cell_type": "code",
      "metadata": {
        "id": "rnhDKr61zvGS"
      },
      "source": [
        "columns = ['duration',\n",
        "    'protocol_type',\n",
        "    'service',\n",
        "    'flag',\n",
        "    'src_bytes',\n",
        "    'dst_bytes',\n",
        "    'land',\n",
        "    'wrong_fragment',\n",
        "    'urgent',\n",
        "    'hot',\n",
        "    'num_failed_logins',\n",
        "    'logged_in',\n",
        "    'num_compromised',\n",
        "    'root_shell',\n",
        "    'su_attempted',\n",
        "    'num_root',\n",
        "    'num_file_creations',\n",
        "    'num_shells',\n",
        "    'num_access_files',\n",
        "    'num_outbound_cmds',\n",
        "    'is_host_login',\n",
        "    'is_guest_login',\n",
        "    'count',\n",
        "    'srv_count',\n",
        "    'serror_rate',\n",
        "    'srv_serror_rate',\n",
        "    'rerror_rate',\n",
        "    'srv_rerror_rate',\n",
        "    'same_srv_rate',\n",
        "    'diff_srv_rate',\n",
        "    'srv_diff_host_rate',\n",
        "    'dst_host_count',\n",
        "    'dst_host_srv_count',\n",
        "    'dst_host_same_srv_rate',\n",
        "    'dst_host_diff_srv_rate',\n",
        "    'dst_host_same_src_port_rate',\n",
        "    'dst_host_srv_diff_host_rate',\n",
        "    'dst_host_serror_rate',\n",
        "    'dst_host_srv_serror_rate',\n",
        "    'dst_host_rerror_rate',\n",
        "    'dst_host_srv_rerror_rate',\n",
        "    'labels'\n",
        "]\n"
      ],
      "execution_count": 48,
      "outputs": []
    },
    {
      "cell_type": "code",
      "metadata": {
        "id": "UCN78iTvzvGS"
      },
      "source": [
        "cav_attacks_list = [\n",
        "    'ipsweep',\n",
        "    'imap',\n",
        "    'mailbomb', \n",
        "    'neptune', \n",
        "    'pod', \n",
        "    'smurf', \n",
        "    'teardrop', \n",
        "    'udpstorm',\n",
        "    'buffer_overflow', \n",
        "    'httptunnel',\n",
        "    'ftp_write', \n",
        "    'guess_passwd', \n",
        "    'worm', \n",
        "    'xsnoop',\n",
        "    'normal']"
      ],
      "execution_count": 49,
      "outputs": []
    },
    {
      "cell_type": "code",
      "metadata": {
        "id": "gl8wIaZJzvGT"
      },
      "source": [
        "columns_sc = ['duration',\n",
        "    'protocol_type',\n",
        "    'service',\n",
        "    'flag',\n",
        "    'src_bytes',\n",
        "    'dst_bytes',\n",
        "    'land',\n",
        "    'wrong_fragment',\n",
        "    'urgent',\n",
        "    'hot',\n",
        "    'num_failed_logins',\n",
        "    'logged_in',\n",
        "    'num_compromised',\n",
        "    'root_shell',\n",
        "    'su_attempted',\n",
        "    'num_root',\n",
        "    'num_file_creations',\n",
        "    'num_shells',\n",
        "    'num_access_files',\n",
        "    'num_outbound_cmds',\n",
        "    'is_host_login',\n",
        "    'is_guest_login',\n",
        "    'count',\n",
        "    'srv_count',\n",
        "    'serror_rate',\n",
        "    'srv_serror_rate',\n",
        "    'rerror_rate',\n",
        "    'srv_rerror_rate',\n",
        "    'same_srv_rate',\n",
        "    'diff_srv_rate',\n",
        "    'srv_diff_host_rate',\n",
        "    'dst_host_count',\n",
        "    'dst_host_srv_count',\n",
        "    'dst_host_same_srv_rate',\n",
        "    'dst_host_diff_srv_rate',\n",
        "    'dst_host_same_src_port_rate',\n",
        "    'dst_host_srv_diff_host_rate',\n",
        "    'dst_host_serror_rate',\n",
        "    'dst_host_srv_serror_rate',\n",
        "    'dst_host_rerror_rate',\n",
        "    'dst_host_srv_rerror_rate'\n",
        "]"
      ],
      "execution_count": 50,
      "outputs": []
    },
    {
      "cell_type": "code",
      "metadata": {
        "id": "ZE_LOB-gzvGT"
      },
      "source": [
        "nsl_kdd_20p_train = pd.read_csv('KDDTrain+_20Percent.txt', names = columns, index_col=False)\n",
        "cav_train = nsl_kdd_20p_train[nsl_kdd_20p_train['labels'].isin(cav_attacks_list)]"
      ],
      "execution_count": 51,
      "outputs": []
    },
    {
      "cell_type": "code",
      "metadata": {
        "id": "nQJycbdIzvGU"
      },
      "source": [
        "nsl_kdd_20p_test = pd.read_csv('KDDTest-21.txt', names = columns, index_col=False)\n",
        "cav_test = nsl_kdd_20p_test[nsl_kdd_20p_test['labels'].isin(cav_attacks_list)]"
      ],
      "execution_count": 52,
      "outputs": []
    },
    {
      "cell_type": "code",
      "metadata": {
        "id": "DCr_F10azvGU"
      },
      "source": [
        "attacks = np.concatenate((nsl_kdd_20p_train['labels'].unique(),nsl_kdd_20p_test['labels'].unique()))\n",
        "attacks = np.unique(attacks)"
      ],
      "execution_count": 53,
      "outputs": []
    },
    {
      "cell_type": "code",
      "metadata": {
        "id": "PXnlI2bVzvGV"
      },
      "source": [
        "nsl_kdd_20p_train_list = nsl_kdd_20p_train['labels'].value_counts()\n",
        "cav_train_list = cav_train['labels'].value_counts()\n",
        "nsl_kdd_20p_test_list = nsl_kdd_20p_test['labels'].value_counts()\n",
        "cav_test_list = cav_test['labels'].value_counts()"
      ],
      "execution_count": 54,
      "outputs": []
    },
    {
      "cell_type": "code",
      "metadata": {
        "colab": {
          "base_uri": "https://localhost:8080/",
          "height": 1000
        },
        "id": "WdH-uglAzvGV",
        "outputId": "fc11ce06-0eed-4ae7-a7e1-a7964d163050"
      },
      "source": [
        "dataset_values = pd.DataFrame(index = attacks, \n",
        "                              columns = ['NSL_KDD_Train', 'NSL_KDD_Test'])\n",
        "#                                          ,'CAV_Train', 'CAV_Test'])\n",
        "dataset_values['NSL_KDD_Train'] = nsl_kdd_20p_train_list\n",
        "dataset_values['NSL_KDD_Test'] = nsl_kdd_20p_test_list\n",
        "dataset_values['CAV_Train'] = cav_train_list\n",
        "dataset_values['CAV_Test'] = cav_test_list\n",
        "dataset_values.sort_values(by=['NSL_KDD_Train'], ascending = False)"
      ],
      "execution_count": 55,
      "outputs": [
        {
          "output_type": "execute_result",
          "data": {
            "text/html": [
              "<div>\n",
              "<style scoped>\n",
              "    .dataframe tbody tr th:only-of-type {\n",
              "        vertical-align: middle;\n",
              "    }\n",
              "\n",
              "    .dataframe tbody tr th {\n",
              "        vertical-align: top;\n",
              "    }\n",
              "\n",
              "    .dataframe thead th {\n",
              "        text-align: right;\n",
              "    }\n",
              "</style>\n",
              "<table border=\"1\" class=\"dataframe\">\n",
              "  <thead>\n",
              "    <tr style=\"text-align: right;\">\n",
              "      <th></th>\n",
              "      <th>NSL_KDD_Train</th>\n",
              "      <th>NSL_KDD_Test</th>\n",
              "      <th>CAV_Train</th>\n",
              "      <th>CAV_Test</th>\n",
              "    </tr>\n",
              "  </thead>\n",
              "  <tbody>\n",
              "    <tr>\n",
              "      <th>normal</th>\n",
              "      <td>13449.0</td>\n",
              "      <td>2152.0</td>\n",
              "      <td>13449.0</td>\n",
              "      <td>2152.0</td>\n",
              "    </tr>\n",
              "    <tr>\n",
              "      <th>neptune</th>\n",
              "      <td>8282.0</td>\n",
              "      <td>1579.0</td>\n",
              "      <td>8282.0</td>\n",
              "      <td>1579.0</td>\n",
              "    </tr>\n",
              "    <tr>\n",
              "      <th>ipsweep</th>\n",
              "      <td>710.0</td>\n",
              "      <td>141.0</td>\n",
              "      <td>710.0</td>\n",
              "      <td>141.0</td>\n",
              "    </tr>\n",
              "    <tr>\n",
              "      <th>satan</th>\n",
              "      <td>691.0</td>\n",
              "      <td>727.0</td>\n",
              "      <td>NaN</td>\n",
              "      <td>NaN</td>\n",
              "    </tr>\n",
              "    <tr>\n",
              "      <th>portsweep</th>\n",
              "      <td>587.0</td>\n",
              "      <td>156.0</td>\n",
              "      <td>NaN</td>\n",
              "      <td>NaN</td>\n",
              "    </tr>\n",
              "    <tr>\n",
              "      <th>smurf</th>\n",
              "      <td>529.0</td>\n",
              "      <td>627.0</td>\n",
              "      <td>529.0</td>\n",
              "      <td>627.0</td>\n",
              "    </tr>\n",
              "    <tr>\n",
              "      <th>nmap</th>\n",
              "      <td>301.0</td>\n",
              "      <td>73.0</td>\n",
              "      <td>NaN</td>\n",
              "      <td>NaN</td>\n",
              "    </tr>\n",
              "    <tr>\n",
              "      <th>back</th>\n",
              "      <td>196.0</td>\n",
              "      <td>359.0</td>\n",
              "      <td>NaN</td>\n",
              "      <td>NaN</td>\n",
              "    </tr>\n",
              "    <tr>\n",
              "      <th>teardrop</th>\n",
              "      <td>188.0</td>\n",
              "      <td>12.0</td>\n",
              "      <td>188.0</td>\n",
              "      <td>12.0</td>\n",
              "    </tr>\n",
              "    <tr>\n",
              "      <th>warezclient</th>\n",
              "      <td>181.0</td>\n",
              "      <td>NaN</td>\n",
              "      <td>NaN</td>\n",
              "      <td>NaN</td>\n",
              "    </tr>\n",
              "    <tr>\n",
              "      <th>pod</th>\n",
              "      <td>38.0</td>\n",
              "      <td>41.0</td>\n",
              "      <td>38.0</td>\n",
              "      <td>41.0</td>\n",
              "    </tr>\n",
              "    <tr>\n",
              "      <th>guess_passwd</th>\n",
              "      <td>10.0</td>\n",
              "      <td>1231.0</td>\n",
              "      <td>10.0</td>\n",
              "      <td>1231.0</td>\n",
              "    </tr>\n",
              "    <tr>\n",
              "      <th>warezmaster</th>\n",
              "      <td>7.0</td>\n",
              "      <td>944.0</td>\n",
              "      <td>NaN</td>\n",
              "      <td>NaN</td>\n",
              "    </tr>\n",
              "    <tr>\n",
              "      <th>buffer_overflow</th>\n",
              "      <td>6.0</td>\n",
              "      <td>20.0</td>\n",
              "      <td>6.0</td>\n",
              "      <td>20.0</td>\n",
              "    </tr>\n",
              "    <tr>\n",
              "      <th>imap</th>\n",
              "      <td>5.0</td>\n",
              "      <td>1.0</td>\n",
              "      <td>5.0</td>\n",
              "      <td>1.0</td>\n",
              "    </tr>\n",
              "    <tr>\n",
              "      <th>rootkit</th>\n",
              "      <td>4.0</td>\n",
              "      <td>13.0</td>\n",
              "      <td>NaN</td>\n",
              "      <td>NaN</td>\n",
              "    </tr>\n",
              "    <tr>\n",
              "      <th>multihop</th>\n",
              "      <td>2.0</td>\n",
              "      <td>18.0</td>\n",
              "      <td>NaN</td>\n",
              "      <td>NaN</td>\n",
              "    </tr>\n",
              "    <tr>\n",
              "      <th>phf</th>\n",
              "      <td>2.0</td>\n",
              "      <td>2.0</td>\n",
              "      <td>NaN</td>\n",
              "      <td>NaN</td>\n",
              "    </tr>\n",
              "    <tr>\n",
              "      <th>loadmodule</th>\n",
              "      <td>1.0</td>\n",
              "      <td>2.0</td>\n",
              "      <td>NaN</td>\n",
              "      <td>NaN</td>\n",
              "    </tr>\n",
              "    <tr>\n",
              "      <th>land</th>\n",
              "      <td>1.0</td>\n",
              "      <td>7.0</td>\n",
              "      <td>NaN</td>\n",
              "      <td>NaN</td>\n",
              "    </tr>\n",
              "    <tr>\n",
              "      <th>ftp_write</th>\n",
              "      <td>1.0</td>\n",
              "      <td>3.0</td>\n",
              "      <td>1.0</td>\n",
              "      <td>3.0</td>\n",
              "    </tr>\n",
              "    <tr>\n",
              "      <th>spy</th>\n",
              "      <td>1.0</td>\n",
              "      <td>NaN</td>\n",
              "      <td>NaN</td>\n",
              "      <td>NaN</td>\n",
              "    </tr>\n",
              "    <tr>\n",
              "      <th>apache2</th>\n",
              "      <td>NaN</td>\n",
              "      <td>737.0</td>\n",
              "      <td>NaN</td>\n",
              "      <td>NaN</td>\n",
              "    </tr>\n",
              "    <tr>\n",
              "      <th>httptunnel</th>\n",
              "      <td>NaN</td>\n",
              "      <td>133.0</td>\n",
              "      <td>NaN</td>\n",
              "      <td>133.0</td>\n",
              "    </tr>\n",
              "    <tr>\n",
              "      <th>mailbomb</th>\n",
              "      <td>NaN</td>\n",
              "      <td>293.0</td>\n",
              "      <td>NaN</td>\n",
              "      <td>293.0</td>\n",
              "    </tr>\n",
              "    <tr>\n",
              "      <th>mscan</th>\n",
              "      <td>NaN</td>\n",
              "      <td>996.0</td>\n",
              "      <td>NaN</td>\n",
              "      <td>NaN</td>\n",
              "    </tr>\n",
              "    <tr>\n",
              "      <th>named</th>\n",
              "      <td>NaN</td>\n",
              "      <td>17.0</td>\n",
              "      <td>NaN</td>\n",
              "      <td>NaN</td>\n",
              "    </tr>\n",
              "    <tr>\n",
              "      <th>perl</th>\n",
              "      <td>NaN</td>\n",
              "      <td>2.0</td>\n",
              "      <td>NaN</td>\n",
              "      <td>NaN</td>\n",
              "    </tr>\n",
              "    <tr>\n",
              "      <th>processtable</th>\n",
              "      <td>NaN</td>\n",
              "      <td>685.0</td>\n",
              "      <td>NaN</td>\n",
              "      <td>NaN</td>\n",
              "    </tr>\n",
              "    <tr>\n",
              "      <th>ps</th>\n",
              "      <td>NaN</td>\n",
              "      <td>15.0</td>\n",
              "      <td>NaN</td>\n",
              "      <td>NaN</td>\n",
              "    </tr>\n",
              "    <tr>\n",
              "      <th>saint</th>\n",
              "      <td>NaN</td>\n",
              "      <td>309.0</td>\n",
              "      <td>NaN</td>\n",
              "      <td>NaN</td>\n",
              "    </tr>\n",
              "    <tr>\n",
              "      <th>sendmail</th>\n",
              "      <td>NaN</td>\n",
              "      <td>14.0</td>\n",
              "      <td>NaN</td>\n",
              "      <td>NaN</td>\n",
              "    </tr>\n",
              "    <tr>\n",
              "      <th>snmpgetattack</th>\n",
              "      <td>NaN</td>\n",
              "      <td>178.0</td>\n",
              "      <td>NaN</td>\n",
              "      <td>NaN</td>\n",
              "    </tr>\n",
              "    <tr>\n",
              "      <th>snmpguess</th>\n",
              "      <td>NaN</td>\n",
              "      <td>331.0</td>\n",
              "      <td>NaN</td>\n",
              "      <td>NaN</td>\n",
              "    </tr>\n",
              "    <tr>\n",
              "      <th>sqlattack</th>\n",
              "      <td>NaN</td>\n",
              "      <td>2.0</td>\n",
              "      <td>NaN</td>\n",
              "      <td>NaN</td>\n",
              "    </tr>\n",
              "    <tr>\n",
              "      <th>udpstorm</th>\n",
              "      <td>NaN</td>\n",
              "      <td>2.0</td>\n",
              "      <td>NaN</td>\n",
              "      <td>2.0</td>\n",
              "    </tr>\n",
              "    <tr>\n",
              "      <th>worm</th>\n",
              "      <td>NaN</td>\n",
              "      <td>2.0</td>\n",
              "      <td>NaN</td>\n",
              "      <td>2.0</td>\n",
              "    </tr>\n",
              "    <tr>\n",
              "      <th>xlock</th>\n",
              "      <td>NaN</td>\n",
              "      <td>9.0</td>\n",
              "      <td>NaN</td>\n",
              "      <td>NaN</td>\n",
              "    </tr>\n",
              "    <tr>\n",
              "      <th>xsnoop</th>\n",
              "      <td>NaN</td>\n",
              "      <td>4.0</td>\n",
              "      <td>NaN</td>\n",
              "      <td>4.0</td>\n",
              "    </tr>\n",
              "    <tr>\n",
              "      <th>xterm</th>\n",
              "      <td>NaN</td>\n",
              "      <td>13.0</td>\n",
              "      <td>NaN</td>\n",
              "      <td>NaN</td>\n",
              "    </tr>\n",
              "  </tbody>\n",
              "</table>\n",
              "</div>"
            ],
            "text/plain": [
              "                 NSL_KDD_Train  NSL_KDD_Test  CAV_Train  CAV_Test\n",
              "normal                 13449.0        2152.0    13449.0    2152.0\n",
              "neptune                 8282.0        1579.0     8282.0    1579.0\n",
              "ipsweep                  710.0         141.0      710.0     141.0\n",
              "satan                    691.0         727.0        NaN       NaN\n",
              "portsweep                587.0         156.0        NaN       NaN\n",
              "smurf                    529.0         627.0      529.0     627.0\n",
              "nmap                     301.0          73.0        NaN       NaN\n",
              "back                     196.0         359.0        NaN       NaN\n",
              "teardrop                 188.0          12.0      188.0      12.0\n",
              "warezclient              181.0           NaN        NaN       NaN\n",
              "pod                       38.0          41.0       38.0      41.0\n",
              "guess_passwd              10.0        1231.0       10.0    1231.0\n",
              "warezmaster                7.0         944.0        NaN       NaN\n",
              "buffer_overflow            6.0          20.0        6.0      20.0\n",
              "imap                       5.0           1.0        5.0       1.0\n",
              "rootkit                    4.0          13.0        NaN       NaN\n",
              "multihop                   2.0          18.0        NaN       NaN\n",
              "phf                        2.0           2.0        NaN       NaN\n",
              "loadmodule                 1.0           2.0        NaN       NaN\n",
              "land                       1.0           7.0        NaN       NaN\n",
              "ftp_write                  1.0           3.0        1.0       3.0\n",
              "spy                        1.0           NaN        NaN       NaN\n",
              "apache2                    NaN         737.0        NaN       NaN\n",
              "httptunnel                 NaN         133.0        NaN     133.0\n",
              "mailbomb                   NaN         293.0        NaN     293.0\n",
              "mscan                      NaN         996.0        NaN       NaN\n",
              "named                      NaN          17.0        NaN       NaN\n",
              "perl                       NaN           2.0        NaN       NaN\n",
              "processtable               NaN         685.0        NaN       NaN\n",
              "ps                         NaN          15.0        NaN       NaN\n",
              "saint                      NaN         309.0        NaN       NaN\n",
              "sendmail                   NaN          14.0        NaN       NaN\n",
              "snmpgetattack              NaN         178.0        NaN       NaN\n",
              "snmpguess                  NaN         331.0        NaN       NaN\n",
              "sqlattack                  NaN           2.0        NaN       NaN\n",
              "udpstorm                   NaN           2.0        NaN       2.0\n",
              "worm                       NaN           2.0        NaN       2.0\n",
              "xlock                      NaN           9.0        NaN       NaN\n",
              "xsnoop                     NaN           4.0        NaN       4.0\n",
              "xterm                      NaN          13.0        NaN       NaN"
            ]
          },
          "metadata": {
            "tags": []
          },
          "execution_count": 55
        }
      ]
    },
    {
      "cell_type": "code",
      "metadata": {
        "colab": {
          "base_uri": "https://localhost:8080/"
        },
        "id": "VTLZDAdMzvGa",
        "outputId": "493d977e-1f89-4895-cdd7-7e84d249ffad"
      },
      "source": [
        "from sklearn import preprocessing\n",
        "\n",
        "le = preprocessing.LabelEncoder()\n",
        "for i in columns:\n",
        "    cav_train[i] = le.fit_transform(cav_train[i])\n",
        "    cav_test[i] = le.fit_transform(cav_test[i])"
      ],
      "execution_count": 56,
      "outputs": [
        {
          "output_type": "stream",
          "text": [
            "/usr/local/lib/python3.6/dist-packages/ipykernel_launcher.py:5: SettingWithCopyWarning: \n",
            "A value is trying to be set on a copy of a slice from a DataFrame.\n",
            "Try using .loc[row_indexer,col_indexer] = value instead\n",
            "\n",
            "See the caveats in the documentation: https://pandas.pydata.org/pandas-docs/stable/user_guide/indexing.html#returning-a-view-versus-a-copy\n",
            "  \"\"\"\n",
            "/usr/local/lib/python3.6/dist-packages/ipykernel_launcher.py:6: SettingWithCopyWarning: \n",
            "A value is trying to be set on a copy of a slice from a DataFrame.\n",
            "Try using .loc[row_indexer,col_indexer] = value instead\n",
            "\n",
            "See the caveats in the documentation: https://pandas.pydata.org/pandas-docs/stable/user_guide/indexing.html#returning-a-view-versus-a-copy\n",
            "  \n"
          ],
          "name": "stderr"
        }
      ]
    },
    {
      "cell_type": "code",
      "metadata": {
        "id": "1C6qj65MzvGa"
      },
      "source": [
        "x_train = cav_train.drop(columns= ['labels'])\n",
        "y_train = cav_train['labels']\n",
        "\n",
        "x_test = cav_test.drop(columns= ['labels'])\n",
        "y_test = cav_test['labels']"
      ],
      "execution_count": 57,
      "outputs": []
    },
    {
      "cell_type": "code",
      "metadata": {
        "id": "ep_6URldzvGb"
      },
      "source": [
        "y_train = np.array(y_train)\n",
        "y_test = np.array(y_test)"
      ],
      "execution_count": 58,
      "outputs": []
    },
    {
      "cell_type": "code",
      "metadata": {
        "id": "tEtfLLffzvGd"
      },
      "source": [
        "from sklearn.preprocessing import StandardScaler"
      ],
      "execution_count": 59,
      "outputs": []
    },
    {
      "cell_type": "code",
      "metadata": {
        "id": "igSvVzW3zvGd"
      },
      "source": [
        "#scaling the data\n",
        "sc=StandardScaler()\n",
        "xsc_train = sc.fit_transform(x_train)\n",
        "xsc_test = sc.transform(x_test)\n",
        "\n",
        "xsc_train=pd.DataFrame(xsc_train, columns = columns_sc)\n",
        "xsc_test=pd.DataFrame(xsc_test, columns = columns_sc)\n",
        "\n",
        "X_loc_train = xsc_train.iloc[:,:].values\n",
        "X_loc_test = xsc_test.iloc[:,:].values"
      ],
      "execution_count": 60,
      "outputs": []
    },
    {
      "cell_type": "code",
      "metadata": {
        "id": "dp_REn7uzvGd"
      },
      "source": [
        "from sklearn.decomposition import PCA"
      ],
      "execution_count": 61,
      "outputs": []
    },
    {
      "cell_type": "code",
      "metadata": {
        "colab": {
          "base_uri": "https://localhost:8080/"
        },
        "id": "vbfE5QBZzvGe",
        "outputId": "2079ac52-76d5-4a27-b330-4cd19728bf02"
      },
      "source": [
        "pca = PCA(n_components = 2)\n",
        "x_pca_train = pca.fit_transform(xsc_train)\n",
        "print(x_pca_train.shape)\n",
        "\n",
        "x_pca_train =pd.DataFrame(x_pca_train)\n",
        "X_pca_loc_train = x_pca_train.iloc[:,:].values"
      ],
      "execution_count": 62,
      "outputs": [
        {
          "output_type": "stream",
          "text": [
            "(23218, 2)\n"
          ],
          "name": "stdout"
        }
      ]
    },
    {
      "cell_type": "code",
      "metadata": {
        "colab": {
          "base_uri": "https://localhost:8080/"
        },
        "id": "bv_KBEWgzvGe",
        "outputId": "1b13aa57-17f0-4c7c-fa35-e680bf03712e"
      },
      "source": [
        "pca = PCA(n_components = 2)\n",
        "x_pca_test = pca.fit_transform(xsc_test)\n",
        "print(x_pca_test.shape)\n",
        "\n",
        "x_pca_test = pd.DataFrame(x_pca_test)\n",
        "X_pca_loc_test = x_pca_test.iloc[:,:].values"
      ],
      "execution_count": 63,
      "outputs": [
        {
          "output_type": "stream",
          "text": [
            "(6241, 2)\n"
          ],
          "name": "stdout"
        }
      ]
    },
    {
      "cell_type": "code",
      "metadata": {
        "id": "MHkEo-dIzvGf"
      },
      "source": [
        "from sklearn.cluster import KMeans, DBSCAN\n",
        "from sklearn.metrics import silhouette_samples, silhouette_score"
      ],
      "execution_count": 64,
      "outputs": []
    },
    {
      "cell_type": "code",
      "metadata": {
        "id": "5Lk3k91EzvGf"
      },
      "source": [
        "dataset = x_pca_train\n",
        "X = X_pca_loc_train"
      ],
      "execution_count": 65,
      "outputs": []
    },
    {
      "cell_type": "code",
      "metadata": {
        "colab": {
          "base_uri": "https://localhost:8080/",
          "height": 314
        },
        "id": "6hjz3QqbzvGf",
        "outputId": "ab5fca1e-99ce-46d4-adb7-e343dc326184"
      },
      "source": [
        "#DBSCAN Algorithm\n",
        "start_time = time.time()\n",
        "clustering = DBSCAN(min_samples = 10, n_jobs=-1).fit(dataset)\n",
        "labels = clustering.labels_\n",
        "n_clusters_ = len(set(labels)) - (1 if -1 in labels else 0)\n",
        "n_noise_ = list(labels).count(-1)\n",
        "print('Number of Cluster:',n_clusters_,'and Noise:', n_noise_)\n",
        "\n",
        "# Plotting the DBSCAN Clusters:\n",
        "unique_labels = set(labels)\n",
        "colors = [plt.cm.Spectral(each)\n",
        "          for each in np.linspace(0, 1, len(unique_labels))]\n",
        "core_samples_mask = np.zeros_like(clustering.labels_, dtype=bool)\n",
        "core_samples_mask[clustering.core_sample_indices_] = True\n",
        "\n",
        "\n",
        "for k, col in zip(unique_labels, colors):\n",
        "    if k == -1:\n",
        "        # Black used for noise.\n",
        "        col = [0, 0, 0, 1]\n",
        "\n",
        "    class_member_mask = (labels == k)\n",
        "\n",
        "    xy = X[class_member_mask & core_samples_mask]\n",
        "    plt.plot(xy[:, 0], xy[:, 1], 'o', markerfacecolor=tuple(col),\n",
        "             markeredgecolor='k', markersize=5)\n",
        "\n",
        "    xy = X[class_member_mask & ~core_samples_mask]\n",
        "    plt.plot(xy[:, 0], xy[:, 1], 'o', markerfacecolor=tuple(col),\n",
        "             markeredgecolor='k', markersize=0.1)\n",
        "\n",
        "end_time = time.time()\n",
        "duration = end_time - start_time\n",
        "print(\"Time Elapsed: {} \".format(duration))\n",
        "\n",
        "plt.title('Estimated number of clusters: %d' % n_clusters_)\n",
        "plt.show()"
      ],
      "execution_count": 66,
      "outputs": [
        {
          "output_type": "stream",
          "text": [
            "Number of Cluster: 3 and Noise: 49\n",
            "Time Elapsed: 1.855970859527588 \n"
          ],
          "name": "stdout"
        },
        {
          "output_type": "display_data",
          "data": {
            "image/png": "[encoded data removed]",
            "text/plain": [
              "<Figure size 432x288 with 1 Axes>"
            ]
          },
          "metadata": {
            "tags": [],
            "needs_background": "light"
          }
        }
      ]
    },
    {
      "cell_type": "code",
      "metadata": {
        "id": "oWy-6VtcFMWf"
      },
      "source": [
        "dataset = x_pca_test\r\n",
        "X = X_pca_loc_test"
      ],
      "execution_count": 67,
      "outputs": []
    },
    {
      "cell_type": "code",
      "metadata": {
        "colab": {
          "base_uri": "https://localhost:8080/",
          "height": 314
        },
        "id": "1ottspCuEwn7",
        "outputId": "d4be3032-f982-4663-bc81-95a0631e874b"
      },
      "source": [
        "#DBSCAN Algorithm\r\n",
        "start_time = time.time()\r\n",
        "clustering = DBSCAN(min_samples = 10, n_jobs=-1).fit(dataset)\r\n",
        "labels = clustering.labels_\r\n",
        "n_clusters_ = len(set(labels)) - (1 if -1 in labels else 0)\r\n",
        "n_noise_ = list(labels).count(-1)\r\n",
        "print('Number of Cluster:',n_clusters_,'and Noise:', n_noise_)\r\n",
        "\r\n",
        "# Plotting the DBSCAN Clusters:\r\n",
        "unique_labels = set(labels)\r\n",
        "colors = [plt.cm.Spectral(each)\r\n",
        "          for each in np.linspace(0, 1, len(unique_labels))]\r\n",
        "core_samples_mask = np.zeros_like(clustering.labels_, dtype=bool)\r\n",
        "core_samples_mask[clustering.core_sample_indices_] = True\r\n",
        "\r\n",
        "\r\n",
        "for k, col in zip(unique_labels, colors):\r\n",
        "    if k == -1:\r\n",
        "        # Black used for noise.\r\n",
        "        col = [0, 0, 0, 1]\r\n",
        "\r\n",
        "    class_member_mask = (labels == k)\r\n",
        "\r\n",
        "    xy = X[class_member_mask & core_samples_mask]\r\n",
        "    plt.plot(xy[:, 0], xy[:, 1], 'o', markerfacecolor=tuple(col),\r\n",
        "             markeredgecolor='k', markersize=5)\r\n",
        "\r\n",
        "    xy = X[class_member_mask & ~core_samples_mask]\r\n",
        "    plt.plot(xy[:, 0], xy[:, 1], 'o', markerfacecolor=tuple(col),\r\n",
        "             markeredgecolor='k', markersize=0.1)\r\n",
        "\r\n",
        "end_time = time.time()\r\n",
        "duration = end_time - start_time\r\n",
        "print(\"Time Elapsed: {} \".format(duration))\r\n",
        "\r\n",
        "plt.title('Estimated number of clusters: %d' % n_clusters_)\r\n",
        "plt.show()"
      ],
      "execution_count": 68,
      "outputs": [
        {
          "output_type": "stream",
          "text": [
            "Number of Cluster: 4 and Noise: 11\n",
            "Time Elapsed: 0.1887965202331543 \n"
          ],
          "name": "stdout"
        },
        {
          "output_type": "display_data",
          "data": {
            "image/png": "[encoded data removed]",
            "text/plain": [
              "<Figure size 432x288 with 1 Axes>"
            ]
          },
          "metadata": {
            "tags": [],
            "needs_background": "light"
          }
        }
      ]
    },
    {
      "cell_type": "code",
      "metadata": {
        "colab": {
          "base_uri": "https://localhost:8080/",
          "height": 1000
        },
        "id": "DdLl5mPxzvGg",
        "outputId": "fbbd444f-8e49-46c1-adf3-3992d90c65b8"
      },
      "source": [
        "#KMeans Clustering Algorithm:\n",
        "range_n_clusters = range(3,(11),2)\n",
        "silhouette_scores = []\n",
        "labels_list = []\n",
        "start_time = time.time()\n",
        "\n",
        "# Initialize the clusterer with n_clusters value:\n",
        "for n_clusters in range_n_clusters:\n",
        "\n",
        "    clusterer = KMeans(n_clusters=n_clusters, random_state=10).fit(dataset)\n",
        "    cluster_labels = clusterer.labels_\n",
        "    labels_list.append(cluster_labels)\n",
        "\n",
        "    # The silhouette_score gives the average value for all the samples.\n",
        "    silhouette_avg = silhouette_score(X, cluster_labels)\n",
        "    silhouette_scores.append(silhouette_avg)\n",
        "    print(\"For n_clusters =\", n_clusters,\", the average silhouette_score is :\", silhouette_avg)\n",
        "\n",
        "    # Create a subplot with 1 row and 2 columns\n",
        "    fig, (ax1, ax2) = plt.subplots(1, 2)\n",
        "    fig.set_size_inches(18, 7)\n",
        "\n",
        "    # The 1st subplot is the silhouette plot\n",
        "    # The silhouette coefficient can range from -1, 1 but in this example all\n",
        "    # lie within [-0.1, 1]\n",
        "    ax1.set_xlim([-0.1, 1])\n",
        "    # The (n_clusters+1)*10 is for inserting blank space between silhouette\n",
        "    # plots of individual clusters, to demarcate them clearly.\n",
        "    ax1.set_ylim([0, len(X) + (n_clusters + 1) * 10])\n",
        "\n",
        "    # Compute the silhouette scores for each sample\n",
        "    sample_silhouette_values = silhouette_samples(X, cluster_labels)\n",
        "\n",
        "    y_lower = 10\n",
        "    for i in range(n_clusters):\n",
        "        # Aggregate the silhouette scores for samples belonging to\n",
        "        # cluster i, and sort them\n",
        "        ith_cluster_silhouette_values = \\\n",
        "                sample_silhouette_values[cluster_labels == i]\n",
        "\n",
        "        ith_cluster_silhouette_values.sort()\n",
        "\n",
        "        size_cluster_i = ith_cluster_silhouette_values.shape[0]\n",
        "        y_upper = y_lower + size_cluster_i\n",
        "\n",
        "        color = cm.nipy_spectral(float(i) / n_clusters)\n",
        "        ax1.fill_betweenx(np.arange(y_lower, y_upper),\n",
        "                              0, ith_cluster_silhouette_values,\n",
        "                              facecolor=color, edgecolor=color, alpha=0.7)\n",
        "\n",
        "        # Label the silhouette plots with their cluster numbers at the middle\n",
        "        ax1.text(-0.05, y_lower + 0.5 * size_cluster_i, str(i))\n",
        "\n",
        "        # Compute the new y_lower for next plot\n",
        "        y_lower = y_upper + 10  # 10 for the 0 samples\n",
        "\n",
        "    ax1.set_title(\"The silhouette plot for the various clusters.\")\n",
        "    ax1.set_xlabel(\"The silhouette coefficient values\")\n",
        "    ax1.set_ylabel(\"Cluster label\")\n",
        "\n",
        "    # The vertical line for average silhouette score of all the values\n",
        "    ax1.axvline(x=silhouette_avg, color=\"red\", linestyle=\"--\")\n",
        "\n",
        "    ax1.set_yticks([])  # Clear the yaxis labels / ticks\n",
        "    ax1.set_xticks([-0.1, 0, 0.2, 0.4, 0.6, 0.8, 1])\n",
        "\n",
        "    # 2nd Plot showing the actual clusters formed\n",
        "    colors = cm.nipy_spectral(cluster_labels.astype(float) / n_clusters)\n",
        "    ax2.scatter(X[:, 0], X[:, 1], marker='.', s=30, lw=0, alpha=0.7,\n",
        "                    c=colors, edgecolor='k')\n",
        "\n",
        "    # Labeling the clusters\n",
        "    centers = clusterer.cluster_centers_\n",
        "    # Draw white circles at cluster centers\n",
        "    ax2.scatter(centers[:, 0], centers[:, 1], marker='o',\n",
        "                    c=\"white\", alpha=1, s=200, edgecolor='k')\n",
        "\n",
        "    for i, c in enumerate(centers):\n",
        "        ax2.scatter(c[0], c[1], marker='$%d$' % i, alpha=1,\n",
        "                        s=50, edgecolor='k')\n",
        "\n",
        "    ax2.set_title(\"The visualization of the clustered data.\")\n",
        "    ax2.set_xlabel(\"Feature space for the 1st feature\")\n",
        "    ax2.set_ylabel(\"Feature space for the 2nd feature\")\n",
        "\n",
        "    plt.suptitle((\"Silhouette analysis for KMeans clustering on sample data \"\n",
        "                      \"with n_clusters = %d\" % n_clusters),\n",
        "                     fontsize=14, fontweight='bold')\n",
        "\n",
        "end_time = time.time()\n",
        "duration = end_time - start_time\n",
        "print(\"Time Elapsed: {} \".format(duration))"
      ],
      "execution_count": 69,
      "outputs": [
        {
          "output_type": "stream",
          "text": [
            "For n_clusters = 3 , the average silhouette_score is : 0.6279582888041783\n",
            "For n_clusters = 5 , the average silhouette_score is : 0.6860788997295513\n",
            "For n_clusters = 7 , the average silhouette_score is : 0.6839086604363935\n",
            "For n_clusters = 9 , the average silhouette_score is : 0.6818637449500208\n",
            "Time Elapsed: 6.232499599456787 \n"
          ],
          "name": "stdout"
        },
        {
          "output_type": "display_data",
          "data": {
            "image/png": "[encoded data removed]",
            "text/plain": [
              "<Figure size 1296x504 with 2 Axes>"
            ]
          },
          "metadata": {
            "tags": [],
            "needs_background": "light"
          }
        },
        {
          "output_type": "display_data",
          "data": {
            "image/png": "[encoded data removed]",
            "text/plain": [
              "<Figure size 1296x504 with 2 Axes>"
            ]
          },
          "metadata": {
            "tags": [],
            "needs_background": "light"
          }
        },
        {
          "output_type": "display_data",
          "data": {
            "image/png": "[encoded data removed]",
            "text/plain": [
              "<Figure size 1296x504 with 2 Axes>"
            ]
          },
          "metadata": {
            "tags": [],
            "needs_background": "light"
          }
        },
        {
          "output_type": "display_data",
          "data": {
            "image/png": "[encoded data removed]",
            "text/plain": [
              "<Figure size 1296x504 with 2 Axes>"
            ]
          },
          "metadata": {
            "tags": [],
            "needs_background": "light"
          }
        }
      ]
    },
    {
      "cell_type": "code",
      "metadata": {
        "colab": {
          "base_uri": "https://localhost:8080/",
          "height": 282
        },
        "id": "tY3BBIskzvGm",
        "outputId": "6d1c2e4e-d433-4669-f114-d964de1ccde0"
      },
      "source": [
        "plt.plot(range(3,11,2), silhouette_scores)"
      ],
      "execution_count": 71,
      "outputs": [
        {
          "output_type": "execute_result",
          "data": {
            "text/plain": [
              "[<matplotlib.lines.Line2D at 0x7f34864734a8>]"
            ]
          },
          "metadata": {
            "tags": []
          },
          "execution_count": 71
        },
        {
          "output_type": "display_data",
          "data": {
            "image/png": "[encoded data removed]",
            "text/plain": [
              "<Figure size 432x288 with 1 Axes>"
            ]
          },
          "metadata": {
            "tags": [],
            "needs_background": "light"
          }
        }
      ]
    },
    {
      "cell_type": "code",
      "metadata": {
        "id": "PCesHlY2zvGm"
      },
      "source": [
        "from sklearn.neighbors import KNeighborsClassifier\n",
        "from sklearn.metrics import confusion_matrix, classification_report, accuracy_score\n",
        "from sklearn.model_selection import train_test_split, cross_val_score, GridSearchCV"
      ],
      "execution_count": 72,
      "outputs": []
    },
    {
      "cell_type": "code",
      "metadata": {
        "pycharm": {
          "name": "#%%\n"
        },
        "colab": {
          "base_uri": "https://localhost:8080/"
        },
        "id": "PDmMZMmizvGn",
        "outputId": "8852332a-a37f-4be8-9444-7d4677fd2f77"
      },
      "source": [
        "#Performing kNN model  5 fold cross validation:\n",
        "start_time = time.time()\n",
        "k_acc_scores = []\n",
        "k_cv_scores = []\n",
        "k_values = [i for i in range(20,100,20)] #evaluating values of k as all odd numbers between 1 and 20\n",
        "\n",
        "for k in k_values:\n",
        "    print(k)\n",
        "    knn = KNeighborsClassifier(n_neighbors = 100)\n",
        "    knn.fit(x_train,y_train)\n",
        "    pred = knn.predict(x_test)\n",
        "    k_acc_scores.append(\"k({}) = {}\".format(k, accuracy_score(y_test, pred)))\n",
        "    cv_scores = cross_val_score(knn, x_train, y_train, cv=5, scoring='accuracy', n_jobs = -1)\n",
        "    print(cv_scores)\n",
        "    k_cv_scores.append(cv_scores.mean())\n",
        "\n",
        "end_time = time.time()\n",
        "duration = end_time-start_time\n",
        "print(\"Time Elapsed: {} \".format(duration))"
      ],
      "execution_count": 73,
      "outputs": [
        {
          "output_type": "stream",
          "text": [
            "20\n"
          ],
          "name": "stdout"
        },
        {
          "output_type": "stream",
          "text": [
            "/usr/local/lib/python3.6/dist-packages/sklearn/model_selection/_split.py:667: UserWarning: The least populated class in y has only 1 members, which is less than n_splits=5.\n",
            "  % (min_groups, self.n_splits)), UserWarning)\n"
          ],
          "name": "stderr"
        },
        {
          "output_type": "stream",
          "text": [
            "[0.98557278 0.98535745 0.9870801  0.98363127 0.982339  ]\n",
            "40\n"
          ],
          "name": "stdout"
        },
        {
          "output_type": "stream",
          "text": [
            "/usr/local/lib/python3.6/dist-packages/sklearn/model_selection/_split.py:667: UserWarning: The least populated class in y has only 1 members, which is less than n_splits=5.\n",
            "  % (min_groups, self.n_splits)), UserWarning)\n"
          ],
          "name": "stderr"
        },
        {
          "output_type": "stream",
          "text": [
            "[0.98557278 0.98535745 0.9870801  0.98363127 0.982339  ]\n",
            "60\n"
          ],
          "name": "stdout"
        },
        {
          "output_type": "stream",
          "text": [
            "/usr/local/lib/python3.6/dist-packages/sklearn/model_selection/_split.py:667: UserWarning: The least populated class in y has only 1 members, which is less than n_splits=5.\n",
            "  % (min_groups, self.n_splits)), UserWarning)\n"
          ],
          "name": "stderr"
        },
        {
          "output_type": "stream",
          "text": [
            "[0.98557278 0.98535745 0.9870801  0.98363127 0.982339  ]\n",
            "80\n"
          ],
          "name": "stdout"
        },
        {
          "output_type": "stream",
          "text": [
            "/usr/local/lib/python3.6/dist-packages/sklearn/model_selection/_split.py:667: UserWarning: The least populated class in y has only 1 members, which is less than n_splits=5.\n",
            "  % (min_groups, self.n_splits)), UserWarning)\n"
          ],
          "name": "stderr"
        },
        {
          "output_type": "stream",
          "text": [
            "[0.98557278 0.98535745 0.9870801  0.98363127 0.982339  ]\n",
            "Time Elapsed: 33.87952136993408 \n"
          ],
          "name": "stdout"
        }
      ]
    },
    {
      "cell_type": "code",
      "metadata": {
        "pycharm": {
          "name": "#%%\n"
        },
        "colab": {
          "base_uri": "https://localhost:8080/"
        },
        "id": "6TCxiwY7zvGn",
        "outputId": "d8904470-1987-4f88-99cb-ed43374bfe3f"
      },
      "source": [
        "#Evaluating Performance metrics for kNN Classifier model:\n",
        "print(max(k_acc_scores))\n",
        "print(max(k_cv_scores))\n",
        "# print(confusion_matrix(y_test, pred))\n",
        "print(classification_report(y_test, pred))"
      ],
      "execution_count": 74,
      "outputs": [
        {
          "output_type": "stream",
          "text": [
            "k(80) = 0.046947604550552795\n",
            "0.9847961227509835\n",
            "              precision    recall  f1-score   support\n",
            "\n",
            "           0       0.00      0.00      0.00        20\n",
            "           1       0.00      0.00      0.00         3\n",
            "           2       0.00      0.00      0.00      1231\n",
            "           3       0.00      0.00      0.00       133\n",
            "           4       0.00      0.00      0.00         1\n",
            "           5       0.00      0.00      0.00       141\n",
            "           6       0.07      1.00      0.14       293\n",
            "           7       0.00      0.00      0.00      1579\n",
            "           8       0.00      0.00      0.00      2152\n",
            "           9       0.00      0.00      0.00        41\n",
            "          10       0.00      0.00      0.00       627\n",
            "          11       0.00      0.00      0.00        12\n",
            "          12       0.00      0.00      0.00         2\n",
            "          13       0.00      0.00      0.00         2\n",
            "          14       0.00      0.00      0.00         4\n",
            "\n",
            "    accuracy                           0.05      6241\n",
            "   macro avg       0.00      0.07      0.01      6241\n",
            "weighted avg       0.00      0.05      0.01      6241\n",
            "\n"
          ],
          "name": "stdout"
        },
        {
          "output_type": "stream",
          "text": [
            "/usr/local/lib/python3.6/dist-packages/sklearn/metrics/_classification.py:1272: UndefinedMetricWarning: Precision and F-score are ill-defined and being set to 0.0 in labels with no predicted samples. Use `zero_division` parameter to control this behavior.\n",
            "  _warn_prf(average, modifier, msg_start, len(result))\n"
          ],
          "name": "stderr"
        }
      ]
    },
    {
      "cell_type": "code",
      "metadata": {
        "id": "X9Rfz9ARzvGo"
      },
      "source": [
        ""
      ],
      "execution_count": 74,
      "outputs": []
    },
    {
      "cell_type": "code",
      "metadata": {
        "id": "OYEt2X_HzvGp"
      },
      "source": [
        "# import keras\n",
        "# from keras import layers\n",
        "\n",
        "# # This is the size of our encoded representations\n",
        "# encoding_dim = 32  # 32 floats -> compression of factor 24.5, assuming the input is 784 floats\n",
        "\n",
        "# # This is our input image\n",
        "# input_img = keras.Input(shape=(784,))\n",
        "# # \"encoded\" is the encoded representation of the input\n",
        "# encoded = layers.Dense(encoding_dim, activation='relu')(input_img)\n",
        "# # \"decoded\" is the lossy reconstruction of the input\n",
        "# decoded = layers.Dense(784, activation='sigmoid')(encoded)\n",
        "\n",
        "# # This model maps an input to its reconstruction\n",
        "# autoencoder = keras.Model(input_img, decoded)"
      ],
      "execution_count": 75,
      "outputs": []
    },
    {
      "cell_type": "code",
      "metadata": {
        "id": "8XPh1t2izvGp"
      },
      "source": [
        ""
      ],
      "execution_count": 75,
      "outputs": []
    },
    {
      "cell_type": "code",
      "metadata": {
        "id": "o_wT3l3qzvGp"
      },
      "source": [
        "from keras.layers import Input,Dense\n",
        "from keras.models import Model\n",
        "\n",
        "# number of neurons in the encoding hidden layer\n",
        "encoding_dim = 82\n",
        "# input placeholder\n",
        "input_data = Input(shape=(41,)) # 6 is the number of features/columns\n",
        "# encoder is the encoded representation of the input\n",
        "encoded = Dense(encoding_dim, activation ='relu')(input_data)\n",
        "# decoder is the lossy reconstruction of the input\n",
        "decoded = Dense(41, activation ='sigmoid')(encoded) # 6 again number of features and should match input_data\n",
        "\n",
        "\n",
        "# this model maps an input to its reconstruction\n",
        "autoencoder = Model(input_data, decoded)\n",
        "\n",
        "# this model maps an input to its encoded representation\n",
        "encoder = Model(input_data, encoded)\n",
        "# model optimizer and loss\n",
        "autoencoder = Model(input_data, decoded)\n",
        "\n",
        "# loss function and optimizer\n",
        "autoencoder.compile(optimizer='adam', loss='binary_crossentropy')"
      ],
      "execution_count": 76,
      "outputs": []
    },
    {
      "cell_type": "code",
      "metadata": {
        "colab": {
          "base_uri": "https://localhost:8080/"
        },
        "id": "If0afin0zvGq",
        "outputId": "ad5c5fa1-f7a3-44a7-f1ac-f0533436873f"
      },
      "source": [
        "# train test split\n",
        "# from sklearn.model_selection import train_test_split\n",
        "# x_train, x_test, = train_test_split(data, test_size=0.1, random_state=42)\n",
        "\n",
        "# train the model\n",
        "autoencoder.fit(x_train,\n",
        "                x_train,\n",
        "                epochs=50,\n",
        "                batch_size=256,\n",
        "                shuffle=True)\n",
        "\n",
        "autoencoder.summary()"
      ],
      "execution_count": 77,
      "outputs": [
        {
          "output_type": "stream",
          "text": [
            "Epoch 1/50\n",
            "91/91 [==============================] - 0s 2ms/step - loss: -27992.0332\n",
            "Epoch 2/50\n",
            "91/91 [==============================] - 0s 2ms/step - loss: -173654.9531\n",
            "Epoch 3/50\n",
            "91/91 [==============================] - 0s 2ms/step - loss: -541597.5000\n",
            "Epoch 4/50\n",
            "91/91 [==============================] - 0s 2ms/step - loss: -1152967.2500\n",
            "Epoch 5/50\n",
            "91/91 [==============================] - 0s 2ms/step - loss: -2028485.3750\n",
            "Epoch 6/50\n",
            "91/91 [==============================] - 0s 2ms/step - loss: -3153870.0000\n",
            "Epoch 7/50\n",
            "91/91 [==============================] - 0s 2ms/step - loss: -4522485.5000\n",
            "Epoch 8/50\n",
            "91/91 [==============================] - 0s 2ms/step - loss: -6125521.5000\n",
            "Epoch 9/50\n",
            "91/91 [==============================] - 0s 2ms/step - loss: -7944354.0000\n",
            "Epoch 10/50\n",
            "91/91 [==============================] - 0s 2ms/step - loss: -9962773.0000\n",
            "Epoch 11/50\n",
            "91/91 [==============================] - 0s 2ms/step - loss: -12172849.0000\n",
            "Epoch 12/50\n",
            "91/91 [==============================] - 0s 2ms/step - loss: -14571407.0000\n",
            "Epoch 13/50\n",
            "91/91 [==============================] - 0s 2ms/step - loss: -17150566.0000\n",
            "Epoch 14/50\n",
            "91/91 [==============================] - 0s 2ms/step - loss: -19908832.0000\n",
            "Epoch 15/50\n",
            "91/91 [==============================] - 0s 2ms/step - loss: -22834028.0000\n",
            "Epoch 16/50\n",
            "91/91 [==============================] - 0s 2ms/step - loss: -25930422.0000\n",
            "Epoch 17/50\n",
            "91/91 [==============================] - 0s 2ms/step - loss: -29189238.0000\n",
            "Epoch 18/50\n",
            "91/91 [==============================] - 0s 2ms/step - loss: -32603468.0000\n",
            "Epoch 19/50\n",
            "91/91 [==============================] - 0s 2ms/step - loss: -36175760.0000\n",
            "Epoch 20/50\n",
            "91/91 [==============================] - 0s 2ms/step - loss: -39897692.0000\n",
            "Epoch 21/50\n",
            "91/91 [==============================] - 0s 2ms/step - loss: -43773680.0000\n",
            "Epoch 22/50\n",
            "91/91 [==============================] - 0s 2ms/step - loss: -47794160.0000\n",
            "Epoch 23/50\n",
            "91/91 [==============================] - 0s 2ms/step - loss: -51987644.0000\n",
            "Epoch 24/50\n",
            "91/91 [==============================] - 0s 2ms/step - loss: -56328296.0000\n",
            "Epoch 25/50\n",
            "91/91 [==============================] - 0s 2ms/step - loss: -60802708.0000\n",
            "Epoch 26/50\n",
            "91/91 [==============================] - 0s 2ms/step - loss: -65419684.0000\n",
            "Epoch 27/50\n",
            "91/91 [==============================] - 0s 2ms/step - loss: -70171976.0000\n",
            "Epoch 28/50\n",
            "91/91 [==============================] - 0s 2ms/step - loss: -75052072.0000\n",
            "Epoch 29/50\n",
            "91/91 [==============================] - 0s 2ms/step - loss: -80065784.0000\n",
            "Epoch 30/50\n",
            "91/91 [==============================] - 0s 2ms/step - loss: -85206608.0000\n",
            "Epoch 31/50\n",
            "91/91 [==============================] - 0s 2ms/step - loss: -90468800.0000\n",
            "Epoch 32/50\n",
            "91/91 [==============================] - 0s 2ms/step - loss: -95859696.0000\n",
            "Epoch 33/50\n",
            "91/91 [==============================] - 0s 2ms/step - loss: -101370832.0000\n",
            "Epoch 34/50\n",
            "91/91 [==============================] - 0s 2ms/step - loss: -106999936.0000\n",
            "Epoch 35/50\n",
            "91/91 [==============================] - 0s 2ms/step - loss: -112753296.0000\n",
            "Epoch 36/50\n",
            "91/91 [==============================] - 0s 2ms/step - loss: -118622168.0000\n",
            "Epoch 37/50\n",
            "91/91 [==============================] - 0s 2ms/step - loss: -124614616.0000\n",
            "Epoch 38/50\n",
            "91/91 [==============================] - 0s 2ms/step - loss: -130711720.0000\n",
            "Epoch 39/50\n",
            "91/91 [==============================] - 0s 2ms/step - loss: -136941760.0000\n",
            "Epoch 40/50\n",
            "91/91 [==============================] - 0s 2ms/step - loss: -143276640.0000\n",
            "Epoch 41/50\n",
            "91/91 [==============================] - 0s 2ms/step - loss: -149722368.0000\n",
            "Epoch 42/50\n",
            "91/91 [==============================] - 0s 2ms/step - loss: -156285296.0000\n",
            "Epoch 43/50\n",
            "91/91 [==============================] - 0s 2ms/step - loss: -162958016.0000\n",
            "Epoch 44/50\n",
            "91/91 [==============================] - 0s 2ms/step - loss: -169749472.0000\n",
            "Epoch 45/50\n",
            "91/91 [==============================] - 0s 2ms/step - loss: -176640784.0000\n",
            "Epoch 46/50\n",
            "91/91 [==============================] - 0s 2ms/step - loss: -183650896.0000\n",
            "Epoch 47/50\n",
            "91/91 [==============================] - 0s 2ms/step - loss: -190762592.0000\n",
            "Epoch 48/50\n",
            "91/91 [==============================] - 0s 2ms/step - loss: -197987936.0000\n",
            "Epoch 49/50\n",
            "91/91 [==============================] - 0s 2ms/step - loss: -205316928.0000\n",
            "Epoch 50/50\n",
            "91/91 [==============================] - 0s 2ms/step - loss: -212754192.0000\n",
            "Model: \"functional_13\"\n",
            "_________________________________________________________________\n",
            "Layer (type)                 Output Shape              Param #   \n",
            "=================================================================\n",
            "input_3 (InputLayer)         [(None, 41)]              0         \n",
            "_________________________________________________________________\n",
            "dense_12 (Dense)             (None, 82)                3444      \n",
            "_________________________________________________________________\n",
            "dense_13 (Dense)             (None, 41)                3403      \n",
            "=================================================================\n",
            "Total params: 6,847\n",
            "Trainable params: 6,847\n",
            "Non-trainable params: 0\n",
            "_________________________________________________________________\n"
          ],
          "name": "stdout"
        }
      ]
    },
    {
      "cell_type": "code",
      "metadata": {
        "id": "OQnWjAJzzvGq"
      },
      "source": [
        "# predict after training\n",
        "# note that we take them from the *test* set\n",
        "encoded_data = encoder.predict(x_test)"
      ],
      "execution_count": 78,
      "outputs": []
    },
    {
      "cell_type": "code",
      "metadata": {
        "colab": {
          "base_uri": "https://localhost:8080/",
          "height": 422
        },
        "id": "r7V_iMepzvGr",
        "outputId": "732f77b5-ad70-44eb-aeae-7e949e252c10"
      },
      "source": [
        "x_train"
      ],
      "execution_count": 79,
      "outputs": [
        {
          "output_type": "execute_result",
          "data": {
            "text/html": [
              "<div>\n",
              "<style scoped>\n",
              "    .dataframe tbody tr th:only-of-type {\n",
              "        vertical-align: middle;\n",
              "    }\n",
              "\n",
              "    .dataframe tbody tr th {\n",
              "        vertical-align: top;\n",
              "    }\n",
              "\n",
              "    .dataframe thead th {\n",
              "        text-align: right;\n",
              "    }\n",
              "</style>\n",
              "<table border=\"1\" class=\"dataframe\">\n",
              "  <thead>\n",
              "    <tr style=\"text-align: right;\">\n",
              "      <th></th>\n",
              "      <th>duration</th>\n",
              "      <th>protocol_type</th>\n",
              "      <th>service</th>\n",
              "      <th>flag</th>\n",
              "      <th>src_bytes</th>\n",
              "      <th>dst_bytes</th>\n",
              "      <th>land</th>\n",
              "      <th>wrong_fragment</th>\n",
              "      <th>urgent</th>\n",
              "      <th>hot</th>\n",
              "      <th>num_failed_logins</th>\n",
              "      <th>logged_in</th>\n",
              "      <th>num_compromised</th>\n",
              "      <th>root_shell</th>\n",
              "      <th>su_attempted</th>\n",
              "      <th>num_root</th>\n",
              "      <th>num_file_creations</th>\n",
              "      <th>num_shells</th>\n",
              "      <th>num_access_files</th>\n",
              "      <th>num_outbound_cmds</th>\n",
              "      <th>is_host_login</th>\n",
              "      <th>is_guest_login</th>\n",
              "      <th>count</th>\n",
              "      <th>srv_count</th>\n",
              "      <th>serror_rate</th>\n",
              "      <th>srv_serror_rate</th>\n",
              "      <th>rerror_rate</th>\n",
              "      <th>srv_rerror_rate</th>\n",
              "      <th>same_srv_rate</th>\n",
              "      <th>diff_srv_rate</th>\n",
              "      <th>srv_diff_host_rate</th>\n",
              "      <th>dst_host_count</th>\n",
              "      <th>dst_host_srv_count</th>\n",
              "      <th>dst_host_same_srv_rate</th>\n",
              "      <th>dst_host_diff_srv_rate</th>\n",
              "      <th>dst_host_same_src_port_rate</th>\n",
              "      <th>dst_host_srv_diff_host_rate</th>\n",
              "      <th>dst_host_serror_rate</th>\n",
              "      <th>dst_host_srv_serror_rate</th>\n",
              "      <th>dst_host_rerror_rate</th>\n",
              "      <th>dst_host_srv_rerror_rate</th>\n",
              "    </tr>\n",
              "  </thead>\n",
              "  <tbody>\n",
              "    <tr>\n",
              "      <th>0</th>\n",
              "      <td>0</td>\n",
              "      <td>1</td>\n",
              "      <td>19</td>\n",
              "      <td>8</td>\n",
              "      <td>411</td>\n",
              "      <td>0</td>\n",
              "      <td>0</td>\n",
              "      <td>0</td>\n",
              "      <td>0</td>\n",
              "      <td>0</td>\n",
              "      <td>0</td>\n",
              "      <td>0</td>\n",
              "      <td>0</td>\n",
              "      <td>0</td>\n",
              "      <td>0</td>\n",
              "      <td>0</td>\n",
              "      <td>0</td>\n",
              "      <td>0</td>\n",
              "      <td>0</td>\n",
              "      <td>0</td>\n",
              "      <td>0</td>\n",
              "      <td>0</td>\n",
              "      <td>1</td>\n",
              "      <td>1</td>\n",
              "      <td>0</td>\n",
              "      <td>0</td>\n",
              "      <td>0</td>\n",
              "      <td>0</td>\n",
              "      <td>90</td>\n",
              "      <td>0</td>\n",
              "      <td>0</td>\n",
              "      <td>150</td>\n",
              "      <td>25</td>\n",
              "      <td>17</td>\n",
              "      <td>3</td>\n",
              "      <td>17</td>\n",
              "      <td>0</td>\n",
              "      <td>0</td>\n",
              "      <td>0</td>\n",
              "      <td>5</td>\n",
              "      <td>0</td>\n",
              "    </tr>\n",
              "    <tr>\n",
              "      <th>1</th>\n",
              "      <td>0</td>\n",
              "      <td>2</td>\n",
              "      <td>40</td>\n",
              "      <td>8</td>\n",
              "      <td>123</td>\n",
              "      <td>0</td>\n",
              "      <td>0</td>\n",
              "      <td>0</td>\n",
              "      <td>0</td>\n",
              "      <td>0</td>\n",
              "      <td>0</td>\n",
              "      <td>0</td>\n",
              "      <td>0</td>\n",
              "      <td>0</td>\n",
              "      <td>0</td>\n",
              "      <td>0</td>\n",
              "      <td>0</td>\n",
              "      <td>0</td>\n",
              "      <td>0</td>\n",
              "      <td>0</td>\n",
              "      <td>0</td>\n",
              "      <td>0</td>\n",
              "      <td>12</td>\n",
              "      <td>0</td>\n",
              "      <td>0</td>\n",
              "      <td>0</td>\n",
              "      <td>0</td>\n",
              "      <td>0</td>\n",
              "      <td>8</td>\n",
              "      <td>15</td>\n",
              "      <td>0</td>\n",
              "      <td>255</td>\n",
              "      <td>1</td>\n",
              "      <td>0</td>\n",
              "      <td>60</td>\n",
              "      <td>88</td>\n",
              "      <td>0</td>\n",
              "      <td>0</td>\n",
              "      <td>0</td>\n",
              "      <td>0</td>\n",
              "      <td>0</td>\n",
              "    </tr>\n",
              "    <tr>\n",
              "      <th>2</th>\n",
              "      <td>0</td>\n",
              "      <td>1</td>\n",
              "      <td>44</td>\n",
              "      <td>4</td>\n",
              "      <td>0</td>\n",
              "      <td>0</td>\n",
              "      <td>0</td>\n",
              "      <td>0</td>\n",
              "      <td>0</td>\n",
              "      <td>0</td>\n",
              "      <td>0</td>\n",
              "      <td>0</td>\n",
              "      <td>0</td>\n",
              "      <td>0</td>\n",
              "      <td>0</td>\n",
              "      <td>0</td>\n",
              "      <td>0</td>\n",
              "      <td>0</td>\n",
              "      <td>0</td>\n",
              "      <td>0</td>\n",
              "      <td>0</td>\n",
              "      <td>0</td>\n",
              "      <td>122</td>\n",
              "      <td>5</td>\n",
              "      <td>53</td>\n",
              "      <td>55</td>\n",
              "      <td>0</td>\n",
              "      <td>0</td>\n",
              "      <td>5</td>\n",
              "      <td>7</td>\n",
              "      <td>0</td>\n",
              "      <td>255</td>\n",
              "      <td>26</td>\n",
              "      <td>10</td>\n",
              "      <td>5</td>\n",
              "      <td>0</td>\n",
              "      <td>0</td>\n",
              "      <td>99</td>\n",
              "      <td>87</td>\n",
              "      <td>0</td>\n",
              "      <td>0</td>\n",
              "    </tr>\n",
              "    <tr>\n",
              "      <th>3</th>\n",
              "      <td>0</td>\n",
              "      <td>1</td>\n",
              "      <td>22</td>\n",
              "      <td>8</td>\n",
              "      <td>209</td>\n",
              "      <td>2875</td>\n",
              "      <td>0</td>\n",
              "      <td>0</td>\n",
              "      <td>0</td>\n",
              "      <td>0</td>\n",
              "      <td>0</td>\n",
              "      <td>1</td>\n",
              "      <td>0</td>\n",
              "      <td>0</td>\n",
              "      <td>0</td>\n",
              "      <td>0</td>\n",
              "      <td>0</td>\n",
              "      <td>0</td>\n",
              "      <td>0</td>\n",
              "      <td>0</td>\n",
              "      <td>0</td>\n",
              "      <td>0</td>\n",
              "      <td>4</td>\n",
              "      <td>4</td>\n",
              "      <td>16</td>\n",
              "      <td>18</td>\n",
              "      <td>0</td>\n",
              "      <td>0</td>\n",
              "      <td>90</td>\n",
              "      <td>0</td>\n",
              "      <td>0</td>\n",
              "      <td>30</td>\n",
              "      <td>255</td>\n",
              "      <td>100</td>\n",
              "      <td>0</td>\n",
              "      <td>3</td>\n",
              "      <td>4</td>\n",
              "      <td>3</td>\n",
              "      <td>1</td>\n",
              "      <td>0</td>\n",
              "      <td>1</td>\n",
              "    </tr>\n",
              "    <tr>\n",
              "      <th>4</th>\n",
              "      <td>0</td>\n",
              "      <td>1</td>\n",
              "      <td>22</td>\n",
              "      <td>8</td>\n",
              "      <td>176</td>\n",
              "      <td>357</td>\n",
              "      <td>0</td>\n",
              "      <td>0</td>\n",
              "      <td>0</td>\n",
              "      <td>0</td>\n",
              "      <td>0</td>\n",
              "      <td>1</td>\n",
              "      <td>0</td>\n",
              "      <td>0</td>\n",
              "      <td>0</td>\n",
              "      <td>0</td>\n",
              "      <td>0</td>\n",
              "      <td>0</td>\n",
              "      <td>0</td>\n",
              "      <td>0</td>\n",
              "      <td>0</td>\n",
              "      <td>0</td>\n",
              "      <td>29</td>\n",
              "      <td>31</td>\n",
              "      <td>0</td>\n",
              "      <td>0</td>\n",
              "      <td>0</td>\n",
              "      <td>0</td>\n",
              "      <td>90</td>\n",
              "      <td>0</td>\n",
              "      <td>9</td>\n",
              "      <td>255</td>\n",
              "      <td>255</td>\n",
              "      <td>100</td>\n",
              "      <td>0</td>\n",
              "      <td>0</td>\n",
              "      <td>0</td>\n",
              "      <td>0</td>\n",
              "      <td>0</td>\n",
              "      <td>0</td>\n",
              "      <td>0</td>\n",
              "    </tr>\n",
              "    <tr>\n",
              "      <th>...</th>\n",
              "      <td>...</td>\n",
              "      <td>...</td>\n",
              "      <td>...</td>\n",
              "      <td>...</td>\n",
              "      <td>...</td>\n",
              "      <td>...</td>\n",
              "      <td>...</td>\n",
              "      <td>...</td>\n",
              "      <td>...</td>\n",
              "      <td>...</td>\n",
              "      <td>...</td>\n",
              "      <td>...</td>\n",
              "      <td>...</td>\n",
              "      <td>...</td>\n",
              "      <td>...</td>\n",
              "      <td>...</td>\n",
              "      <td>...</td>\n",
              "      <td>...</td>\n",
              "      <td>...</td>\n",
              "      <td>...</td>\n",
              "      <td>...</td>\n",
              "      <td>...</td>\n",
              "      <td>...</td>\n",
              "      <td>...</td>\n",
              "      <td>...</td>\n",
              "      <td>...</td>\n",
              "      <td>...</td>\n",
              "      <td>...</td>\n",
              "      <td>...</td>\n",
              "      <td>...</td>\n",
              "      <td>...</td>\n",
              "      <td>...</td>\n",
              "      <td>...</td>\n",
              "      <td>...</td>\n",
              "      <td>...</td>\n",
              "      <td>...</td>\n",
              "      <td>...</td>\n",
              "      <td>...</td>\n",
              "      <td>...</td>\n",
              "      <td>...</td>\n",
              "      <td>...</td>\n",
              "    </tr>\n",
              "    <tr>\n",
              "      <th>25186</th>\n",
              "      <td>0</td>\n",
              "      <td>1</td>\n",
              "      <td>22</td>\n",
              "      <td>5</td>\n",
              "      <td>316</td>\n",
              "      <td>3413</td>\n",
              "      <td>0</td>\n",
              "      <td>0</td>\n",
              "      <td>0</td>\n",
              "      <td>0</td>\n",
              "      <td>0</td>\n",
              "      <td>1</td>\n",
              "      <td>0</td>\n",
              "      <td>0</td>\n",
              "      <td>0</td>\n",
              "      <td>0</td>\n",
              "      <td>0</td>\n",
              "      <td>0</td>\n",
              "      <td>0</td>\n",
              "      <td>0</td>\n",
              "      <td>0</td>\n",
              "      <td>0</td>\n",
              "      <td>1</td>\n",
              "      <td>32</td>\n",
              "      <td>22</td>\n",
              "      <td>3</td>\n",
              "      <td>0</td>\n",
              "      <td>0</td>\n",
              "      <td>90</td>\n",
              "      <td>0</td>\n",
              "      <td>6</td>\n",
              "      <td>173</td>\n",
              "      <td>255</td>\n",
              "      <td>100</td>\n",
              "      <td>0</td>\n",
              "      <td>1</td>\n",
              "      <td>1</td>\n",
              "      <td>1</td>\n",
              "      <td>0</td>\n",
              "      <td>1</td>\n",
              "      <td>0</td>\n",
              "    </tr>\n",
              "    <tr>\n",
              "      <th>25187</th>\n",
              "      <td>0</td>\n",
              "      <td>1</td>\n",
              "      <td>16</td>\n",
              "      <td>2</td>\n",
              "      <td>0</td>\n",
              "      <td>0</td>\n",
              "      <td>0</td>\n",
              "      <td>0</td>\n",
              "      <td>0</td>\n",
              "      <td>0</td>\n",
              "      <td>0</td>\n",
              "      <td>0</td>\n",
              "      <td>0</td>\n",
              "      <td>0</td>\n",
              "      <td>0</td>\n",
              "      <td>0</td>\n",
              "      <td>0</td>\n",
              "      <td>0</td>\n",
              "      <td>0</td>\n",
              "      <td>0</td>\n",
              "      <td>0</td>\n",
              "      <td>0</td>\n",
              "      <td>99</td>\n",
              "      <td>6</td>\n",
              "      <td>0</td>\n",
              "      <td>0</td>\n",
              "      <td>40</td>\n",
              "      <td>39</td>\n",
              "      <td>7</td>\n",
              "      <td>7</td>\n",
              "      <td>0</td>\n",
              "      <td>255</td>\n",
              "      <td>7</td>\n",
              "      <td>3</td>\n",
              "      <td>6</td>\n",
              "      <td>0</td>\n",
              "      <td>0</td>\n",
              "      <td>0</td>\n",
              "      <td>0</td>\n",
              "      <td>98</td>\n",
              "      <td>98</td>\n",
              "    </tr>\n",
              "    <tr>\n",
              "      <th>25189</th>\n",
              "      <td>0</td>\n",
              "      <td>1</td>\n",
              "      <td>44</td>\n",
              "      <td>1</td>\n",
              "      <td>0</td>\n",
              "      <td>0</td>\n",
              "      <td>0</td>\n",
              "      <td>0</td>\n",
              "      <td>0</td>\n",
              "      <td>0</td>\n",
              "      <td>0</td>\n",
              "      <td>0</td>\n",
              "      <td>0</td>\n",
              "      <td>0</td>\n",
              "      <td>0</td>\n",
              "      <td>0</td>\n",
              "      <td>0</td>\n",
              "      <td>0</td>\n",
              "      <td>0</td>\n",
              "      <td>0</td>\n",
              "      <td>0</td>\n",
              "      <td>0</td>\n",
              "      <td>104</td>\n",
              "      <td>6</td>\n",
              "      <td>0</td>\n",
              "      <td>0</td>\n",
              "      <td>40</td>\n",
              "      <td>39</td>\n",
              "      <td>7</td>\n",
              "      <td>7</td>\n",
              "      <td>0</td>\n",
              "      <td>255</td>\n",
              "      <td>13</td>\n",
              "      <td>5</td>\n",
              "      <td>7</td>\n",
              "      <td>0</td>\n",
              "      <td>0</td>\n",
              "      <td>0</td>\n",
              "      <td>0</td>\n",
              "      <td>98</td>\n",
              "      <td>98</td>\n",
              "    </tr>\n",
              "    <tr>\n",
              "      <th>25190</th>\n",
              "      <td>0</td>\n",
              "      <td>1</td>\n",
              "      <td>37</td>\n",
              "      <td>4</td>\n",
              "      <td>0</td>\n",
              "      <td>0</td>\n",
              "      <td>0</td>\n",
              "      <td>0</td>\n",
              "      <td>0</td>\n",
              "      <td>0</td>\n",
              "      <td>0</td>\n",
              "      <td>0</td>\n",
              "      <td>0</td>\n",
              "      <td>0</td>\n",
              "      <td>0</td>\n",
              "      <td>0</td>\n",
              "      <td>0</td>\n",
              "      <td>0</td>\n",
              "      <td>0</td>\n",
              "      <td>0</td>\n",
              "      <td>0</td>\n",
              "      <td>0</td>\n",
              "      <td>128</td>\n",
              "      <td>17</td>\n",
              "      <td>53</td>\n",
              "      <td>55</td>\n",
              "      <td>0</td>\n",
              "      <td>0</td>\n",
              "      <td>14</td>\n",
              "      <td>6</td>\n",
              "      <td>0</td>\n",
              "      <td>255</td>\n",
              "      <td>20</td>\n",
              "      <td>8</td>\n",
              "      <td>6</td>\n",
              "      <td>0</td>\n",
              "      <td>0</td>\n",
              "      <td>99</td>\n",
              "      <td>87</td>\n",
              "      <td>0</td>\n",
              "      <td>0</td>\n",
              "    </tr>\n",
              "    <tr>\n",
              "      <th>25191</th>\n",
              "      <td>0</td>\n",
              "      <td>1</td>\n",
              "      <td>17</td>\n",
              "      <td>4</td>\n",
              "      <td>0</td>\n",
              "      <td>0</td>\n",
              "      <td>0</td>\n",
              "      <td>0</td>\n",
              "      <td>0</td>\n",
              "      <td>0</td>\n",
              "      <td>0</td>\n",
              "      <td>0</td>\n",
              "      <td>0</td>\n",
              "      <td>0</td>\n",
              "      <td>0</td>\n",
              "      <td>0</td>\n",
              "      <td>0</td>\n",
              "      <td>0</td>\n",
              "      <td>0</td>\n",
              "      <td>0</td>\n",
              "      <td>0</td>\n",
              "      <td>0</td>\n",
              "      <td>37</td>\n",
              "      <td>8</td>\n",
              "      <td>53</td>\n",
              "      <td>55</td>\n",
              "      <td>0</td>\n",
              "      <td>0</td>\n",
              "      <td>24</td>\n",
              "      <td>11</td>\n",
              "      <td>0</td>\n",
              "      <td>255</td>\n",
              "      <td>49</td>\n",
              "      <td>19</td>\n",
              "      <td>3</td>\n",
              "      <td>1</td>\n",
              "      <td>0</td>\n",
              "      <td>99</td>\n",
              "      <td>87</td>\n",
              "      <td>0</td>\n",
              "      <td>0</td>\n",
              "    </tr>\n",
              "  </tbody>\n",
              "</table>\n",
              "<p>23218 rows × 41 columns</p>\n",
              "</div>"
            ],
            "text/plain": [
              "       duration  protocol_type  ...  dst_host_rerror_rate  dst_host_srv_rerror_rate\n",
              "0             0              1  ...                     5                         0\n",
              "1             0              2  ...                     0                         0\n",
              "2             0              1  ...                     0                         0\n",
              "3             0              1  ...                     0                         1\n",
              "4             0              1  ...                     0                         0\n",
              "...         ...            ...  ...                   ...                       ...\n",
              "25186         0              1  ...                     1                         0\n",
              "25187         0              1  ...                    98                        98\n",
              "25189         0              1  ...                    98                        98\n",
              "25190         0              1  ...                     0                         0\n",
              "25191         0              1  ...                     0                         0\n",
              "\n",
              "[23218 rows x 41 columns]"
            ]
          },
          "metadata": {
            "tags": []
          },
          "execution_count": 79
        }
      ]
    },
    {
      "cell_type": "code",
      "metadata": {
        "id": "rRaPlJQyzvGr"
      },
      "source": [
        "import pandas as pd \n",
        "import numpy as np \n",
        "from sklearn.model_selection import train_test_split \n",
        "from sklearn.linear_model import LogisticRegression \n",
        "from sklearn.svm import SVC \n",
        "from sklearn.metrics import accuracy_score \n",
        "from sklearn.preprocessing import MinMaxScaler \n",
        "from sklearn.manifold import TSNE \n",
        "import matplotlib.pyplot as plt \n",
        "import seaborn as sns \n",
        "from keras.layers import Input, Dense \n",
        "from keras.models import Model, Sequential \n",
        "from keras import regularizers \n"
      ],
      "execution_count": 80,
      "outputs": []
    },
    {
      "cell_type": "code",
      "metadata": {
        "id": "4kDlWxhYzvGr"
      },
      "source": [
        "# Building the Input Layer \n",
        "input_layer = Input(shape =(x_train.shape[1], )) \n",
        "\n",
        "# Building the Encoder network \n",
        "encoded = Dense(1000, activation ='relu')(input_layer) \n",
        "encoded = Dense(500,  activation ='relu')(encoded) \n",
        "encoded = Dense(250,  activation ='relu')(encoded) \n",
        "encoded = Dense(120,  activation ='relu')(encoded) \n",
        "encoded = Dense(60, activation ='relu')(encoded) \n",
        "\n",
        "# Building the Decoder network \n",
        "decoded = Dense(120,  activation ='relu')(encoded) \n",
        "decoded = Dense(250, activation ='relu')(decoded) \n",
        "decoded = Dense(500,  activation ='relu')(decoded) \n",
        "decoded = Dense(1000, activation ='relu')(decoded) \n",
        "\n",
        "# Building the Output Layer \n",
        "output_layer = Dense(x_train.shape[1], activation ='relu')(decoded) \n"
      ],
      "execution_count": 81,
      "outputs": []
    },
    {
      "cell_type": "code",
      "metadata": {
        "id": "1reXQWnSzvGs"
      },
      "source": [
        "# Defining the parameters of the Auto-encoder network \n",
        "autoencoder = Model(input_layer, output_layer) \n",
        "autoencoder.compile(optimizer =\"adam\", loss =\"mse\") "
      ],
      "execution_count": 82,
      "outputs": []
    },
    {
      "cell_type": "code",
      "metadata": {
        "colab": {
          "base_uri": "https://localhost:8080/"
        },
        "id": "WTqhOL-AzvGs",
        "outputId": "33265be3-8d99-4789-9130-ed73644e8277"
      },
      "source": [
        "np.unique(y_test)"
      ],
      "execution_count": 83,
      "outputs": [
        {
          "output_type": "execute_result",
          "data": {
            "text/plain": [
              "array([ 0,  1,  2,  3,  4,  5,  6,  7,  8,  9, 10, 11, 12, 13, 14])"
            ]
          },
          "metadata": {
            "tags": []
          },
          "execution_count": 83
        }
      ]
    },
    {
      "cell_type": "code",
      "metadata": {
        "colab": {
          "base_uri": "https://localhost:8080/"
        },
        "id": "MP6FKaOCzvGt",
        "outputId": "0da216ac-cb40-4b2c-ae75-fb794bc85c10"
      },
      "source": [
        "# Training the Auto-encoder network \n",
        "autoencoder.fit(x_train, x_train, \n",
        "                batch_size = 200, epochs = 100, validation_split = 0.20) "
      ],
      "execution_count": 40,
      "outputs": [
        {
          "output_type": "stream",
          "text": [
            "Epoch 1/100\n",
            "93/93 [==============================] - 5s 48ms/step - loss: 2874.8757 - val_loss: 407.2729\n",
            "Epoch 2/100\n",
            "93/93 [==============================] - 4s 46ms/step - loss: 318.2399 - val_loss: 249.7866\n",
            "Epoch 3/100\n",
            "93/93 [==============================] - 4s 46ms/step - loss: 250.3669 - val_loss: 236.9288\n",
            "Epoch 4/100\n",
            "93/93 [==============================] - 4s 46ms/step - loss: 238.2366 - val_loss: 235.2656\n",
            "Epoch 5/100\n",
            "93/93 [==============================] - 4s 46ms/step - loss: 241.2071 - val_loss: 279.7638\n",
            "Epoch 6/100\n",
            "93/93 [==============================] - 4s 46ms/step - loss: 276.2517 - val_loss: 225.1504\n",
            "Epoch 7/100\n",
            "93/93 [==============================] - 4s 46ms/step - loss: 230.3979 - val_loss: 226.8600\n",
            "Epoch 8/100\n",
            "93/93 [==============================] - 4s 47ms/step - loss: 229.8535 - val_loss: 217.9228\n",
            "Epoch 9/100\n",
            "93/93 [==============================] - 5s 49ms/step - loss: 224.3088 - val_loss: 226.4640\n",
            "Epoch 10/100\n",
            "93/93 [==============================] - 4s 48ms/step - loss: 222.9324 - val_loss: 218.9606\n",
            "Epoch 11/100\n",
            "93/93 [==============================] - 4s 48ms/step - loss: 223.4113 - val_loss: 215.4811\n",
            "Epoch 12/100\n",
            "93/93 [==============================] - 5s 49ms/step - loss: 238.9048 - val_loss: 218.8684\n",
            "Epoch 13/100\n",
            "93/93 [==============================] - 4s 47ms/step - loss: 3731.4854 - val_loss: 1320.3983\n",
            "Epoch 14/100\n",
            "93/93 [==============================] - 4s 46ms/step - loss: 433.8033 - val_loss: 250.6573\n",
            "Epoch 15/100\n",
            "93/93 [==============================] - 4s 46ms/step - loss: 239.1150 - val_loss: 218.4657\n",
            "Epoch 16/100\n",
            "93/93 [==============================] - 4s 46ms/step - loss: 215.7620 - val_loss: 205.4261\n",
            "Epoch 17/100\n",
            "93/93 [==============================] - 4s 46ms/step - loss: 187.2931 - val_loss: 147.8197\n",
            "Epoch 18/100\n",
            "93/93 [==============================] - 4s 46ms/step - loss: 153.0525 - val_loss: 148.5759\n",
            "Epoch 19/100\n",
            "93/93 [==============================] - 4s 46ms/step - loss: 152.5454 - val_loss: 144.2609\n",
            "Epoch 20/100\n",
            "93/93 [==============================] - 4s 47ms/step - loss: 148.2923 - val_loss: 142.4183\n",
            "Epoch 21/100\n",
            "93/93 [==============================] - 5s 53ms/step - loss: 148.4546 - val_loss: 143.0599\n",
            "Epoch 22/100\n",
            "93/93 [==============================] - 5s 49ms/step - loss: 146.7490 - val_loss: 141.9932\n",
            "Epoch 23/100\n",
            "93/93 [==============================] - 7s 75ms/step - loss: 147.3293 - val_loss: 150.4889\n",
            "Epoch 24/100\n",
            "93/93 [==============================] - 6s 65ms/step - loss: 149.5877 - val_loss: 142.5073\n",
            "Epoch 25/100\n",
            "93/93 [==============================] - 5s 50ms/step - loss: 147.2167 - val_loss: 145.1394\n",
            "Epoch 26/100\n",
            "93/93 [==============================] - 5s 49ms/step - loss: 147.9657 - val_loss: 143.0802\n",
            "Epoch 27/100\n",
            "93/93 [==============================] - 4s 48ms/step - loss: 153.2132 - val_loss: 143.3249\n",
            "Epoch 28/100\n",
            "93/93 [==============================] - 5s 49ms/step - loss: 145.6967 - val_loss: 140.8522\n",
            "Epoch 29/100\n",
            "93/93 [==============================] - 5s 48ms/step - loss: 145.8076 - val_loss: 139.6879\n",
            "Epoch 30/100\n",
            "93/93 [==============================] - 5s 49ms/step - loss: 144.1113 - val_loss: 139.5576\n",
            "Epoch 31/100\n",
            "93/93 [==============================] - 5s 49ms/step - loss: 144.3311 - val_loss: 139.7716\n",
            "Epoch 32/100\n",
            "93/93 [==============================] - 5s 50ms/step - loss: 160.2590 - val_loss: 146.2430\n",
            "Epoch 33/100\n",
            "93/93 [==============================] - 5s 49ms/step - loss: 148.0022 - val_loss: 139.8006\n",
            "Epoch 34/100\n",
            "93/93 [==============================] - 5s 49ms/step - loss: 144.9760 - val_loss: 138.8345\n",
            "Epoch 35/100\n",
            "93/93 [==============================] - 5s 49ms/step - loss: 147.3078 - val_loss: 149.4675\n",
            "Epoch 36/100\n",
            "93/93 [==============================] - 5s 49ms/step - loss: 145.5535 - val_loss: 139.8839\n",
            "Epoch 37/100\n",
            "93/93 [==============================] - 5s 49ms/step - loss: 154.7249 - val_loss: 144.4689\n",
            "Epoch 38/100\n",
            "93/93 [==============================] - 5s 50ms/step - loss: 174.4798 - val_loss: 172.0767\n",
            "Epoch 39/100\n",
            "93/93 [==============================] - 5s 49ms/step - loss: 155.9506 - val_loss: 141.7039\n",
            "Epoch 40/100\n",
            "93/93 [==============================] - 5s 49ms/step - loss: 144.5902 - val_loss: 138.8429\n",
            "Epoch 41/100\n",
            "93/93 [==============================] - 5s 49ms/step - loss: 144.3059 - val_loss: 139.3377\n",
            "Epoch 42/100\n",
            "93/93 [==============================] - 5s 49ms/step - loss: 144.7915 - val_loss: 138.7517\n",
            "Epoch 43/100\n",
            "93/93 [==============================] - 5s 49ms/step - loss: 144.1930 - val_loss: 139.8169\n",
            "Epoch 44/100\n",
            "93/93 [==============================] - 5s 49ms/step - loss: 154.6154 - val_loss: 142.5467\n",
            "Epoch 45/100\n",
            "93/93 [==============================] - 5s 49ms/step - loss: 144.7319 - val_loss: 138.4343\n",
            "Epoch 46/100\n",
            "93/93 [==============================] - 5s 49ms/step - loss: 144.4598 - val_loss: 151.8305\n",
            "Epoch 47/100\n",
            "93/93 [==============================] - 5s 49ms/step - loss: 149.0859 - val_loss: 144.3140\n",
            "Epoch 48/100\n",
            "93/93 [==============================] - 5s 49ms/step - loss: 200.2261 - val_loss: 148.7496\n",
            "Epoch 49/100\n",
            "93/93 [==============================] - 5s 48ms/step - loss: 146.4874 - val_loss: 140.1765\n",
            "Epoch 50/100\n",
            "93/93 [==============================] - 5s 49ms/step - loss: 144.5779 - val_loss: 140.8290\n",
            "Epoch 51/100\n",
            "93/93 [==============================] - 5s 50ms/step - loss: 143.8026 - val_loss: 138.3796\n",
            "Epoch 52/100\n",
            "93/93 [==============================] - 5s 49ms/step - loss: 143.2612 - val_loss: 138.1918\n",
            "Epoch 53/100\n",
            "93/93 [==============================] - 5s 49ms/step - loss: 146.5843 - val_loss: 139.6076\n",
            "Epoch 54/100\n",
            "93/93 [==============================] - 5s 49ms/step - loss: 144.9541 - val_loss: 141.9013\n",
            "Epoch 55/100\n",
            "93/93 [==============================] - 5s 50ms/step - loss: 150.5866 - val_loss: 146.2375\n",
            "Epoch 56/100\n",
            "93/93 [==============================] - 5s 49ms/step - loss: 153.1955 - val_loss: 139.5980\n",
            "Epoch 57/100\n",
            "93/93 [==============================] - 5s 49ms/step - loss: 154.6617 - val_loss: 225.4289\n",
            "Epoch 58/100\n",
            "93/93 [==============================] - 5s 50ms/step - loss: 182.6965 - val_loss: 168.9541\n",
            "Epoch 59/100\n",
            "93/93 [==============================] - 5s 49ms/step - loss: 148.4023 - val_loss: 139.5540\n",
            "Epoch 60/100\n",
            "93/93 [==============================] - 5s 49ms/step - loss: 144.9228 - val_loss: 138.0200\n",
            "Epoch 61/100\n",
            "93/93 [==============================] - 5s 55ms/step - loss: 142.7970 - val_loss: 137.8487\n",
            "Epoch 62/100\n",
            "93/93 [==============================] - 5s 49ms/step - loss: 143.3476 - val_loss: 139.0852\n",
            "Epoch 63/100\n",
            "93/93 [==============================] - 5s 52ms/step - loss: 144.2433 - val_loss: 138.0749\n",
            "Epoch 64/100\n",
            "93/93 [==============================] - 5s 49ms/step - loss: 143.0809 - val_loss: 137.9769\n",
            "Epoch 65/100\n",
            "93/93 [==============================] - 5s 49ms/step - loss: 168.6042 - val_loss: 1841.8088\n",
            "Epoch 66/100\n",
            "93/93 [==============================] - 5s 49ms/step - loss: 460.1551 - val_loss: 150.1898\n",
            "Epoch 67/100\n",
            "93/93 [==============================] - 5s 49ms/step - loss: 149.9311 - val_loss: 141.9473\n",
            "Epoch 68/100\n",
            "93/93 [==============================] - 5s 48ms/step - loss: 146.1509 - val_loss: 141.6594\n",
            "Epoch 69/100\n",
            "93/93 [==============================] - 5s 48ms/step - loss: 146.1843 - val_loss: 142.1112\n",
            "Epoch 70/100\n",
            "93/93 [==============================] - 5s 49ms/step - loss: 144.2129 - val_loss: 138.6891\n",
            "Epoch 71/100\n",
            "93/93 [==============================] - 5s 49ms/step - loss: 143.1208 - val_loss: 138.6960\n",
            "Epoch 72/100\n",
            "93/93 [==============================] - 5s 49ms/step - loss: 144.1930 - val_loss: 139.0556\n",
            "Epoch 73/100\n",
            "93/93 [==============================] - 5s 49ms/step - loss: 142.6144 - val_loss: 137.3458\n",
            "Epoch 74/100\n",
            "93/93 [==============================] - 5s 49ms/step - loss: 142.4484 - val_loss: 137.6484\n",
            "Epoch 75/100\n",
            "93/93 [==============================] - 5s 48ms/step - loss: 142.4429 - val_loss: 137.6809\n",
            "Epoch 76/100\n",
            "93/93 [==============================] - 5s 49ms/step - loss: 142.9543 - val_loss: 138.7779\n",
            "Epoch 77/100\n",
            "93/93 [==============================] - 5s 49ms/step - loss: 144.9203 - val_loss: 136.4634\n",
            "Epoch 78/100\n",
            "93/93 [==============================] - 5s 52ms/step - loss: 142.6777 - val_loss: 146.9555\n",
            "Epoch 79/100\n",
            "93/93 [==============================] - 5s 53ms/step - loss: 145.2344 - val_loss: 142.0744\n",
            "Epoch 80/100\n",
            "93/93 [==============================] - 5s 51ms/step - loss: 141.5540 - val_loss: 136.3655\n",
            "Epoch 81/100\n",
            "93/93 [==============================] - 5s 49ms/step - loss: 144.7437 - val_loss: 154.5955\n",
            "Epoch 82/100\n",
            "93/93 [==============================] - 5s 49ms/step - loss: 178.3341 - val_loss: 152.6555\n",
            "Epoch 83/100\n",
            "93/93 [==============================] - 5s 49ms/step - loss: 146.3114 - val_loss: 136.1643\n",
            "Epoch 84/100\n",
            "93/93 [==============================] - 5s 49ms/step - loss: 142.3270 - val_loss: 139.6405\n",
            "Epoch 85/100\n",
            "93/93 [==============================] - 5s 49ms/step - loss: 146.8296 - val_loss: 137.2918\n",
            "Epoch 86/100\n",
            "93/93 [==============================] - 5s 49ms/step - loss: 140.3398 - val_loss: 135.5450\n",
            "Epoch 87/100\n",
            "93/93 [==============================] - 5s 49ms/step - loss: 140.4602 - val_loss: 135.2229\n",
            "Epoch 88/100\n",
            "93/93 [==============================] - 5s 49ms/step - loss: 139.9594 - val_loss: 135.0725\n",
            "Epoch 89/100\n",
            "93/93 [==============================] - 5s 49ms/step - loss: 139.6709 - val_loss: 136.9958\n",
            "Epoch 90/100\n",
            "93/93 [==============================] - 5s 49ms/step - loss: 150.0813 - val_loss: 137.6204\n",
            "Epoch 91/100\n",
            "93/93 [==============================] - 5s 50ms/step - loss: 140.3497 - val_loss: 135.9213\n",
            "Epoch 92/100\n",
            "93/93 [==============================] - 5s 49ms/step - loss: 140.7840 - val_loss: 158.8573\n",
            "Epoch 93/100\n",
            "93/93 [==============================] - 5s 49ms/step - loss: 199.6474 - val_loss: 147.1622\n",
            "Epoch 94/100\n",
            "93/93 [==============================] - 5s 51ms/step - loss: 144.0614 - val_loss: 138.2620\n",
            "Epoch 95/100\n",
            "93/93 [==============================] - 5s 49ms/step - loss: 139.9781 - val_loss: 134.0635\n",
            "Epoch 96/100\n",
            "93/93 [==============================] - 5s 50ms/step - loss: 139.3314 - val_loss: 134.0689\n",
            "Epoch 97/100\n",
            "93/93 [==============================] - 5s 50ms/step - loss: 139.0483 - val_loss: 133.9814\n",
            "Epoch 98/100\n",
            "93/93 [==============================] - 5s 50ms/step - loss: 139.3400 - val_loss: 133.4905\n",
            "Epoch 99/100\n",
            "93/93 [==============================] - 5s 49ms/step - loss: 140.0846 - val_loss: 134.5069\n",
            "Epoch 100/100\n",
            "93/93 [==============================] - 5s 49ms/step - loss: 138.9301 - val_loss: 133.9000\n"
          ],
          "name": "stdout"
        },
        {
          "output_type": "execute_result",
          "data": {
            "text/plain": [
              "<tensorflow.python.keras.callbacks.History at 0x7f3488e9c710>"
            ]
          },
          "metadata": {
            "tags": []
          },
          "execution_count": 40
        }
      ]
    },
    {
      "cell_type": "code",
      "metadata": {
        "id": "3pmWTahPzvGt"
      },
      "source": [
        "hidden_representation = Sequential() \n",
        "hidden_representation.add(autoencoder.layers[0]) \n",
        "hidden_representation.add(autoencoder.layers[1]) \n",
        "hidden_representation.add(autoencoder.layers[2]) \n",
        "hidden_representation.add(autoencoder.layers[3]) \n",
        "hidden_representation.add(autoencoder.layers[4]) "
      ],
      "execution_count": 41,
      "outputs": []
    },
    {
      "cell_type": "code",
      "metadata": {
        "colab": {
          "base_uri": "https://localhost:8080/",
          "height": 282
        },
        "id": "DGFwVOstzvGt",
        "outputId": "06980c9b-bdf1-4817-996a-9b65908b2940"
      },
      "source": [
        "# Separating the points encoded by the Auto-encoder as normal and fraud \n",
        "# normal_hidden_rep = hidden_representation.predict(X_normal_scaled) \n",
        "# fraud_hidden_rep = hidden_representation.predict(X_fraud_scaled) \n",
        "normal_hidden_rep = hidden_representation.predict(x_train) \n",
        "\n",
        "\n",
        "# Combining the encoded points into a single table \n",
        "# encoded_X = np.append(normal_hidden_rep, fraud_hidden_rep, axis = 0) \n",
        "encoded_X = np.array(normal_hidden_rep[:,0]) \n",
        "\n",
        "y_normal = np.zeros(normal_hidden_rep.shape[0]) \n",
        "# y_fraud = np.ones(fraud_hidden_rep.shape[0]) \n",
        "# encoded_y = np.append(y_normal, y_fraud) \n",
        "encoded_y = np.array(y_normal) \n",
        "\n",
        "# Plotting the encoded points \n",
        "plt.scatter(encoded_X, encoded_y) \n"
      ],
      "execution_count": 42,
      "outputs": [
        {
          "output_type": "execute_result",
          "data": {
            "text/plain": [
              "<matplotlib.collections.PathCollection at 0x7f3491e0cbe0>"
            ]
          },
          "metadata": {
            "tags": []
          },
          "execution_count": 42
        },
        {
          "output_type": "display_data",
          "data": {
            "image/png": "[encoded data removed]",
            "text/plain": [
              "<Figure size 432x288 with 1 Axes>"
            ]
          },
          "metadata": {
            "tags": [],
            "needs_background": "light"
          }
        }
      ]
    },
    {
      "cell_type": "code",
      "metadata": {
        "colab": {
          "base_uri": "https://localhost:8080/"
        },
        "id": "lAMqTtNAzvGu",
        "outputId": "91b6aad1-3f77-4087-c09b-285abf5a28f3"
      },
      "source": [
        "normal_hidden_rep.shape[0]"
      ],
      "execution_count": 43,
      "outputs": [
        {
          "output_type": "execute_result",
          "data": {
            "text/plain": [
              "23218"
            ]
          },
          "metadata": {
            "tags": []
          },
          "execution_count": 43
        }
      ]
    },
    {
      "cell_type": "code",
      "metadata": {
        "id": "AD91w4SXzvGu"
      },
      "source": [
        "def tsne_plot(x, y): \n",
        "\n",
        "    # Setting the plotting background \n",
        "    sns.set(style =\"whitegrid\") \n",
        "\n",
        "    tsne = TSNE(n_components = 2, random_state = 0) \n",
        "\n",
        "    # Reducing the dimensionality of the data \n",
        "    X_transformed = tsne.fit_transform(x) \n",
        "\n",
        "    plt.figure(figsize =(12, 8)) \n",
        "\n",
        "    # Building the scatter plot \n",
        "    plt.scatter(X_transformed[np.where(y == 0), 0], \n",
        "                X_transformed[np.where(y == 0), 1], \n",
        "                marker ='o', color ='y', linewidth ='1', \n",
        "                alpha = 0.8, label ='Normal') \n",
        "    plt.scatter(X_transformed[np.where(y == 1), 0], \n",
        "                X_transformed[np.where(y == 1), 1], \n",
        "                marker ='o', color ='k', linewidth ='1', \n",
        "                alpha = 0.8, label ='Fraud') \n",
        "\n",
        "    # Specifying the location of the legend \n",
        "    plt.legend(loc ='best') \n",
        "\n",
        "    # Plotting the reduced data \n",
        "    plt.show() \n"
      ],
      "execution_count": 44,
      "outputs": []
    }
  ]
}